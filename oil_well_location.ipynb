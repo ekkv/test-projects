{
 "cells": [
  {
   "cell_type": "markdown",
   "id": "f129e52a",
   "metadata": {
    "toc": true
   },
   "source": [
    "<h1>Table of Contents<span class=\"tocSkip\"></span></h1>\n",
    "<div class=\"toc\"><ul class=\"toc-item\"><li><span><a href=\"#Изучение-общей-информации-о-данных\" data-toc-modified-id=\"Изучение-общей-информации-о-данных-1\"><span class=\"toc-item-num\">1&nbsp;&nbsp;</span>Изучение общей информации о данных</a></span></li><li><span><a href=\"#Обучение-модели\" data-toc-modified-id=\"Обучение-модели-2\"><span class=\"toc-item-num\">2&nbsp;&nbsp;</span>Обучение модели</a></span><ul class=\"toc-item\"><li><span><a href=\"#Разделение-данных-на-выборки\" data-toc-modified-id=\"Разделение-данных-на-выборки-2.1\"><span class=\"toc-item-num\">2.1&nbsp;&nbsp;</span>Разделение данных на выборки</a></span></li><li><span><a href=\"#Обучение\" data-toc-modified-id=\"Обучение-2.2\"><span class=\"toc-item-num\">2.2&nbsp;&nbsp;</span>Обучение</a></span></li></ul></li><li><span><a href=\"#Анализ-предсказаний\" data-toc-modified-id=\"Анализ-предсказаний-3\"><span class=\"toc-item-num\">3&nbsp;&nbsp;</span>Анализ предсказаний</a></span><ul class=\"toc-item\"><li><span><a href=\"#Рассчёт-достаточного-объёма-сырья-для-безубыточной-разработки-новой-скважины\" data-toc-modified-id=\"Рассчёт-достаточного-объёма-сырья-для-безубыточной-разработки-новой-скважины-3.1\"><span class=\"toc-item-num\">3.1&nbsp;&nbsp;</span>Рассчёт достаточного объёма сырья для безубыточной разработки новой скважины</a></span></li><li><span><a href=\"#Функция-рассчёта-прибыли-по-выбранным-скважинам-и-предсказаниям-модели\" data-toc-modified-id=\"Функция-рассчёта-прибыли-по-выбранным-скважинам-и-предсказаниям-модели-3.2\"><span class=\"toc-item-num\">3.2&nbsp;&nbsp;</span>Функция рассчёта прибыли по выбранным скважинам и предсказаниям модели</a></span></li><li><span><a href=\"#Рассчёт-рисков-и-прибыли-для-каждого-региона\" data-toc-modified-id=\"Рассчёт-рисков-и-прибыли-для-каждого-региона-3.3\"><span class=\"toc-item-num\">3.3&nbsp;&nbsp;</span>Рассчёт рисков и прибыли для каждого региона</a></span></li></ul></li><li><span><a href=\"#Общий-вывод-по-проделанной-работе\" data-toc-modified-id=\"Общий-вывод-по-проделанной-работе-4\"><span class=\"toc-item-num\">4&nbsp;&nbsp;</span>Общий вывод по проделанной работе</a></span></li></ul></div>"
   ]
  },
  {
   "cell_type": "markdown",
   "id": "02deea0b",
   "metadata": {},
   "source": [
    "# Модель предсказания прибыли скважин; анализ возможной прибыли и рисков"
   ]
  },
  {
   "cell_type": "markdown",
   "id": "a521fe3c",
   "metadata": {},
   "source": [
    "Перед нами данные о пробах нефти в трёх регионах с характеристиками для каждой скважины в регионе. Данные предоставлены в трёх `csv` файлах. Наша задача - обучить модель для определения региона, где добыча принесёт наибольшую прибыль и спрогнозировать прибыль самого успешного региона."
   ]
  },
  {
   "cell_type": "markdown",
   "id": "929e20de",
   "metadata": {},
   "source": [
    "Исследование поделено на четыре основные части:\n",
    "\n",
    "- 1) Изучение общей информации о данных\n",
    "- 2) Обучение модели:\n",
    "    - Разделение данных на выборки\n",
    "    - Обучение\n",
    "- 3) Анализ предсказаний\n",
    "    - Рассчёт достаточного объёма сырья для безубыточной разработки новой скважины.\n",
    "    - Рассчёт прибыли и рисков для каждого региона\n",
    "- 4) Общий вывод по проделанной работе"
   ]
  },
  {
   "cell_type": "markdown",
   "id": "6e48f5fe",
   "metadata": {},
   "source": [
    "**Описание данных:**\n",
    "Нам даны данные по трём регионам.\n",
    "- `geo_data_0.csv` - Данные для региона 0\n",
    "- `geo_data_1.csv` - Данные для региона 1\n",
    "- `geo_data_2.csv` - Данные для региона 2\n",
    "\n",
    "Каждый объект в наборе данных — действующая нефтяная скважина в определённом регионе\n",
    "- `id` — уникальный идентификатор скважины\n",
    "- `f0, f1, f2` — три признака точек\n",
    "- `product` — объём запасов в скважине (тыс. баррелей)"
   ]
  },
  {
   "cell_type": "markdown",
   "id": "d0e9475c",
   "metadata": {},
   "source": [
    "## Изучение общей информации о данных"
   ]
  },
  {
   "cell_type": "markdown",
   "id": "303db3b2",
   "metadata": {},
   "source": [
    "Импортируем модули."
   ]
  },
  {
   "cell_type": "code",
   "execution_count": 1,
   "id": "175c55af",
   "metadata": {},
   "outputs": [],
   "source": [
    "import pandas as pd\n",
    "import numpy as np\n",
    "import matplotlib.pyplot as plt\n",
    "import warnings\n",
    "from sklearn.model_selection import train_test_split\n",
    "from sklearn.linear_model import LinearRegression\n",
    "from sklearn.metrics import mean_squared_error\n",
    "\n",
    "# ignore warnings\n",
    "warnings.simplefilter('ignore')\n",
    "\n",
    "# RandomState\n",
    "state = np.random.RandomState(12345)"
   ]
  },
  {
   "cell_type": "markdown",
   "id": "7c6aa124",
   "metadata": {},
   "source": [
    "Запишем константы, данные нам от бизнеса."
   ]
  },
  {
   "cell_type": "code",
   "execution_count": 2,
   "id": "343ff8ba",
   "metadata": {},
   "outputs": [],
   "source": [
    "BARREL_REVENUE = 450_000 # Выручка за 1 единицу \"product\" (тысячу баррелей) в рублях\n",
    "POTENTIAL_WELLS = 500 # количество исследуемых скважин\n",
    "TOP_WELLS = 200 # количество скважин, выбранных для разработки\n",
    "REGION_BUDGET = 10_000_000_000 # бюджет, выделенный для разработки скважин одного региона"
   ]
  },
  {
   "cell_type": "markdown",
   "id": "60cabe4a",
   "metadata": {},
   "source": [
    "Импортируем данные."
   ]
  },
  {
   "cell_type": "code",
   "execution_count": 3,
   "id": "4a156a64",
   "metadata": {},
   "outputs": [],
   "source": [
    "df0 = pd.read_csv('datasets/geo_data_0.csv', sep=',')\n",
    "\n",
    "df1 = pd.read_csv('datasets/geo_data_1.csv', sep=',')\n",
    "\n",
    "df2 = pd.read_csv('datasets/geo_data_2.csv', sep=',')"
   ]
  },
  {
   "cell_type": "markdown",
   "id": "fc4eaf3a",
   "metadata": {},
   "source": [
    "Выведем первые 5 строк датафреймов и основную информацию о них."
   ]
  },
  {
   "cell_type": "code",
   "execution_count": 4,
   "id": "be78a411",
   "metadata": {},
   "outputs": [
    {
     "data": {
      "text/html": [
       "<div>\n",
       "<style scoped>\n",
       "    .dataframe tbody tr th:only-of-type {\n",
       "        vertical-align: middle;\n",
       "    }\n",
       "\n",
       "    .dataframe tbody tr th {\n",
       "        vertical-align: top;\n",
       "    }\n",
       "\n",
       "    .dataframe thead th {\n",
       "        text-align: right;\n",
       "    }\n",
       "</style>\n",
       "<table border=\"1\" class=\"dataframe\">\n",
       "  <thead>\n",
       "    <tr style=\"text-align: right;\">\n",
       "      <th></th>\n",
       "      <th>id</th>\n",
       "      <th>f0</th>\n",
       "      <th>f1</th>\n",
       "      <th>f2</th>\n",
       "      <th>product</th>\n",
       "    </tr>\n",
       "  </thead>\n",
       "  <tbody>\n",
       "    <tr>\n",
       "      <th>0</th>\n",
       "      <td>txEyH</td>\n",
       "      <td>0.705745</td>\n",
       "      <td>-0.497823</td>\n",
       "      <td>1.221170</td>\n",
       "      <td>105.280062</td>\n",
       "    </tr>\n",
       "    <tr>\n",
       "      <th>1</th>\n",
       "      <td>2acmU</td>\n",
       "      <td>1.334711</td>\n",
       "      <td>-0.340164</td>\n",
       "      <td>4.365080</td>\n",
       "      <td>73.037750</td>\n",
       "    </tr>\n",
       "    <tr>\n",
       "      <th>2</th>\n",
       "      <td>409Wp</td>\n",
       "      <td>1.022732</td>\n",
       "      <td>0.151990</td>\n",
       "      <td>1.419926</td>\n",
       "      <td>85.265647</td>\n",
       "    </tr>\n",
       "    <tr>\n",
       "      <th>3</th>\n",
       "      <td>iJLyR</td>\n",
       "      <td>-0.032172</td>\n",
       "      <td>0.139033</td>\n",
       "      <td>2.978566</td>\n",
       "      <td>168.620776</td>\n",
       "    </tr>\n",
       "    <tr>\n",
       "      <th>4</th>\n",
       "      <td>Xdl7t</td>\n",
       "      <td>1.988431</td>\n",
       "      <td>0.155413</td>\n",
       "      <td>4.751769</td>\n",
       "      <td>154.036647</td>\n",
       "    </tr>\n",
       "  </tbody>\n",
       "</table>\n",
       "</div>"
      ],
      "text/plain": [
       "      id        f0        f1        f2     product\n",
       "0  txEyH  0.705745 -0.497823  1.221170  105.280062\n",
       "1  2acmU  1.334711 -0.340164  4.365080   73.037750\n",
       "2  409Wp  1.022732  0.151990  1.419926   85.265647\n",
       "3  iJLyR -0.032172  0.139033  2.978566  168.620776\n",
       "4  Xdl7t  1.988431  0.155413  4.751769  154.036647"
      ]
     },
     "metadata": {},
     "output_type": "display_data"
    },
    {
     "data": {
      "text/html": [
       "<div>\n",
       "<style scoped>\n",
       "    .dataframe tbody tr th:only-of-type {\n",
       "        vertical-align: middle;\n",
       "    }\n",
       "\n",
       "    .dataframe tbody tr th {\n",
       "        vertical-align: top;\n",
       "    }\n",
       "\n",
       "    .dataframe thead th {\n",
       "        text-align: right;\n",
       "    }\n",
       "</style>\n",
       "<table border=\"1\" class=\"dataframe\">\n",
       "  <thead>\n",
       "    <tr style=\"text-align: right;\">\n",
       "      <th></th>\n",
       "      <th>id</th>\n",
       "      <th>f0</th>\n",
       "      <th>f1</th>\n",
       "      <th>f2</th>\n",
       "      <th>product</th>\n",
       "    </tr>\n",
       "  </thead>\n",
       "  <tbody>\n",
       "    <tr>\n",
       "      <th>0</th>\n",
       "      <td>kBEdx</td>\n",
       "      <td>-15.001348</td>\n",
       "      <td>-8.276000</td>\n",
       "      <td>-0.005876</td>\n",
       "      <td>3.179103</td>\n",
       "    </tr>\n",
       "    <tr>\n",
       "      <th>1</th>\n",
       "      <td>62mP7</td>\n",
       "      <td>14.272088</td>\n",
       "      <td>-3.475083</td>\n",
       "      <td>0.999183</td>\n",
       "      <td>26.953261</td>\n",
       "    </tr>\n",
       "    <tr>\n",
       "      <th>2</th>\n",
       "      <td>vyE1P</td>\n",
       "      <td>6.263187</td>\n",
       "      <td>-5.948386</td>\n",
       "      <td>5.001160</td>\n",
       "      <td>134.766305</td>\n",
       "    </tr>\n",
       "    <tr>\n",
       "      <th>3</th>\n",
       "      <td>KcrkZ</td>\n",
       "      <td>-13.081196</td>\n",
       "      <td>-11.506057</td>\n",
       "      <td>4.999415</td>\n",
       "      <td>137.945408</td>\n",
       "    </tr>\n",
       "    <tr>\n",
       "      <th>4</th>\n",
       "      <td>AHL4O</td>\n",
       "      <td>12.702195</td>\n",
       "      <td>-8.147433</td>\n",
       "      <td>5.004363</td>\n",
       "      <td>134.766305</td>\n",
       "    </tr>\n",
       "  </tbody>\n",
       "</table>\n",
       "</div>"
      ],
      "text/plain": [
       "      id         f0         f1        f2     product\n",
       "0  kBEdx -15.001348  -8.276000 -0.005876    3.179103\n",
       "1  62mP7  14.272088  -3.475083  0.999183   26.953261\n",
       "2  vyE1P   6.263187  -5.948386  5.001160  134.766305\n",
       "3  KcrkZ -13.081196 -11.506057  4.999415  137.945408\n",
       "4  AHL4O  12.702195  -8.147433  5.004363  134.766305"
      ]
     },
     "metadata": {},
     "output_type": "display_data"
    },
    {
     "data": {
      "text/html": [
       "<div>\n",
       "<style scoped>\n",
       "    .dataframe tbody tr th:only-of-type {\n",
       "        vertical-align: middle;\n",
       "    }\n",
       "\n",
       "    .dataframe tbody tr th {\n",
       "        vertical-align: top;\n",
       "    }\n",
       "\n",
       "    .dataframe thead th {\n",
       "        text-align: right;\n",
       "    }\n",
       "</style>\n",
       "<table border=\"1\" class=\"dataframe\">\n",
       "  <thead>\n",
       "    <tr style=\"text-align: right;\">\n",
       "      <th></th>\n",
       "      <th>id</th>\n",
       "      <th>f0</th>\n",
       "      <th>f1</th>\n",
       "      <th>f2</th>\n",
       "      <th>product</th>\n",
       "    </tr>\n",
       "  </thead>\n",
       "  <tbody>\n",
       "    <tr>\n",
       "      <th>0</th>\n",
       "      <td>fwXo0</td>\n",
       "      <td>-1.146987</td>\n",
       "      <td>0.963328</td>\n",
       "      <td>-0.828965</td>\n",
       "      <td>27.758673</td>\n",
       "    </tr>\n",
       "    <tr>\n",
       "      <th>1</th>\n",
       "      <td>WJtFt</td>\n",
       "      <td>0.262778</td>\n",
       "      <td>0.269839</td>\n",
       "      <td>-2.530187</td>\n",
       "      <td>56.069697</td>\n",
       "    </tr>\n",
       "    <tr>\n",
       "      <th>2</th>\n",
       "      <td>ovLUW</td>\n",
       "      <td>0.194587</td>\n",
       "      <td>0.289035</td>\n",
       "      <td>-5.586433</td>\n",
       "      <td>62.871910</td>\n",
       "    </tr>\n",
       "    <tr>\n",
       "      <th>3</th>\n",
       "      <td>q6cA6</td>\n",
       "      <td>2.236060</td>\n",
       "      <td>-0.553760</td>\n",
       "      <td>0.930038</td>\n",
       "      <td>114.572842</td>\n",
       "    </tr>\n",
       "    <tr>\n",
       "      <th>4</th>\n",
       "      <td>WPMUX</td>\n",
       "      <td>-0.515993</td>\n",
       "      <td>1.716266</td>\n",
       "      <td>5.899011</td>\n",
       "      <td>149.600746</td>\n",
       "    </tr>\n",
       "  </tbody>\n",
       "</table>\n",
       "</div>"
      ],
      "text/plain": [
       "      id        f0        f1        f2     product\n",
       "0  fwXo0 -1.146987  0.963328 -0.828965   27.758673\n",
       "1  WJtFt  0.262778  0.269839 -2.530187   56.069697\n",
       "2  ovLUW  0.194587  0.289035 -5.586433   62.871910\n",
       "3  q6cA6  2.236060 -0.553760  0.930038  114.572842\n",
       "4  WPMUX -0.515993  1.716266  5.899011  149.600746"
      ]
     },
     "metadata": {},
     "output_type": "display_data"
    }
   ],
   "source": [
    "data = [df0, df1, df2]\n",
    "\n",
    "for df in data:\n",
    "    display(df.head())"
   ]
  },
  {
   "cell_type": "code",
   "execution_count": 5,
   "id": "b0966ebb",
   "metadata": {},
   "outputs": [
    {
     "data": {
      "text/html": [
       "<div>\n",
       "<style scoped>\n",
       "    .dataframe tbody tr th:only-of-type {\n",
       "        vertical-align: middle;\n",
       "    }\n",
       "\n",
       "    .dataframe tbody tr th {\n",
       "        vertical-align: top;\n",
       "    }\n",
       "\n",
       "    .dataframe thead th {\n",
       "        text-align: right;\n",
       "    }\n",
       "</style>\n",
       "<table border=\"1\" class=\"dataframe\">\n",
       "  <thead>\n",
       "    <tr style=\"text-align: right;\">\n",
       "      <th></th>\n",
       "      <th>id</th>\n",
       "      <th>f0</th>\n",
       "      <th>f1</th>\n",
       "      <th>f2</th>\n",
       "      <th>product</th>\n",
       "    </tr>\n",
       "  </thead>\n",
       "  <tbody>\n",
       "  </tbody>\n",
       "</table>\n",
       "</div>"
      ],
      "text/plain": [
       "Empty DataFrame\n",
       "Columns: [id, f0, f1, f2, product]\n",
       "Index: []"
      ]
     },
     "execution_count": 5,
     "metadata": {},
     "output_type": "execute_result"
    }
   ],
   "source": [
    "df0[df0['id'].isin(df0.duplicated(subset=\"id\"))]"
   ]
  },
  {
   "cell_type": "code",
   "execution_count": 6,
   "id": "23e629d1",
   "metadata": {},
   "outputs": [
    {
     "name": "stdout",
     "output_type": "stream",
     "text": [
      "<class 'pandas.core.frame.DataFrame'>\n",
      "RangeIndex: 100000 entries, 0 to 99999\n",
      "Data columns (total 5 columns):\n",
      " #   Column   Non-Null Count   Dtype  \n",
      "---  ------   --------------   -----  \n",
      " 0   id       100000 non-null  object \n",
      " 1   f0       100000 non-null  float64\n",
      " 2   f1       100000 non-null  float64\n",
      " 3   f2       100000 non-null  float64\n",
      " 4   product  100000 non-null  float64\n",
      "dtypes: float64(4), object(1)\n",
      "memory usage: 3.8+ MB\n",
      "\n",
      "<class 'pandas.core.frame.DataFrame'>\n",
      "RangeIndex: 100000 entries, 0 to 99999\n",
      "Data columns (total 5 columns):\n",
      " #   Column   Non-Null Count   Dtype  \n",
      "---  ------   --------------   -----  \n",
      " 0   id       100000 non-null  object \n",
      " 1   f0       100000 non-null  float64\n",
      " 2   f1       100000 non-null  float64\n",
      " 3   f2       100000 non-null  float64\n",
      " 4   product  100000 non-null  float64\n",
      "dtypes: float64(4), object(1)\n",
      "memory usage: 3.8+ MB\n",
      "\n",
      "<class 'pandas.core.frame.DataFrame'>\n",
      "RangeIndex: 100000 entries, 0 to 99999\n",
      "Data columns (total 5 columns):\n",
      " #   Column   Non-Null Count   Dtype  \n",
      "---  ------   --------------   -----  \n",
      " 0   id       100000 non-null  object \n",
      " 1   f0       100000 non-null  float64\n",
      " 2   f1       100000 non-null  float64\n",
      " 3   f2       100000 non-null  float64\n",
      " 4   product  100000 non-null  float64\n",
      "dtypes: float64(4), object(1)\n",
      "memory usage: 3.8+ MB\n",
      "\n"
     ]
    }
   ],
   "source": [
    "for df in data:\n",
    "    df.info()\n",
    "    print()"
   ]
  },
  {
   "cell_type": "markdown",
   "id": "cabebccb",
   "metadata": {},
   "source": [
    "В данных отсутствуют пропуски. Столбец `id` в будущем нужно будет исключить из признаков, он не нужен для обучения модели."
   ]
  },
  {
   "cell_type": "code",
   "execution_count": 7,
   "id": "49bda98b",
   "metadata": {},
   "outputs": [
    {
     "data": {
      "text/html": [
       "<div>\n",
       "<style scoped>\n",
       "    .dataframe tbody tr th:only-of-type {\n",
       "        vertical-align: middle;\n",
       "    }\n",
       "\n",
       "    .dataframe tbody tr th {\n",
       "        vertical-align: top;\n",
       "    }\n",
       "\n",
       "    .dataframe thead th {\n",
       "        text-align: right;\n",
       "    }\n",
       "</style>\n",
       "<table border=\"1\" class=\"dataframe\">\n",
       "  <thead>\n",
       "    <tr style=\"text-align: right;\">\n",
       "      <th></th>\n",
       "      <th>f0</th>\n",
       "      <th>f1</th>\n",
       "      <th>f2</th>\n",
       "      <th>product</th>\n",
       "    </tr>\n",
       "  </thead>\n",
       "  <tbody>\n",
       "    <tr>\n",
       "      <th>count</th>\n",
       "      <td>100000.000000</td>\n",
       "      <td>100000.000000</td>\n",
       "      <td>100000.000000</td>\n",
       "      <td>100000.000000</td>\n",
       "    </tr>\n",
       "    <tr>\n",
       "      <th>mean</th>\n",
       "      <td>0.500419</td>\n",
       "      <td>0.250143</td>\n",
       "      <td>2.502647</td>\n",
       "      <td>92.500000</td>\n",
       "    </tr>\n",
       "    <tr>\n",
       "      <th>std</th>\n",
       "      <td>0.871832</td>\n",
       "      <td>0.504433</td>\n",
       "      <td>3.248248</td>\n",
       "      <td>44.288691</td>\n",
       "    </tr>\n",
       "    <tr>\n",
       "      <th>min</th>\n",
       "      <td>-1.408605</td>\n",
       "      <td>-0.848218</td>\n",
       "      <td>-12.088328</td>\n",
       "      <td>0.000000</td>\n",
       "    </tr>\n",
       "    <tr>\n",
       "      <th>25%</th>\n",
       "      <td>-0.072580</td>\n",
       "      <td>-0.200881</td>\n",
       "      <td>0.287748</td>\n",
       "      <td>56.497507</td>\n",
       "    </tr>\n",
       "    <tr>\n",
       "      <th>50%</th>\n",
       "      <td>0.502360</td>\n",
       "      <td>0.250252</td>\n",
       "      <td>2.515969</td>\n",
       "      <td>91.849972</td>\n",
       "    </tr>\n",
       "    <tr>\n",
       "      <th>75%</th>\n",
       "      <td>1.073581</td>\n",
       "      <td>0.700646</td>\n",
       "      <td>4.715088</td>\n",
       "      <td>128.564089</td>\n",
       "    </tr>\n",
       "    <tr>\n",
       "      <th>max</th>\n",
       "      <td>2.362331</td>\n",
       "      <td>1.343769</td>\n",
       "      <td>16.003790</td>\n",
       "      <td>185.364347</td>\n",
       "    </tr>\n",
       "  </tbody>\n",
       "</table>\n",
       "</div>"
      ],
      "text/plain": [
       "                  f0             f1             f2        product\n",
       "count  100000.000000  100000.000000  100000.000000  100000.000000\n",
       "mean        0.500419       0.250143       2.502647      92.500000\n",
       "std         0.871832       0.504433       3.248248      44.288691\n",
       "min        -1.408605      -0.848218     -12.088328       0.000000\n",
       "25%        -0.072580      -0.200881       0.287748      56.497507\n",
       "50%         0.502360       0.250252       2.515969      91.849972\n",
       "75%         1.073581       0.700646       4.715088     128.564089\n",
       "max         2.362331       1.343769      16.003790     185.364347"
      ]
     },
     "metadata": {},
     "output_type": "display_data"
    },
    {
     "data": {
      "text/html": [
       "<div>\n",
       "<style scoped>\n",
       "    .dataframe tbody tr th:only-of-type {\n",
       "        vertical-align: middle;\n",
       "    }\n",
       "\n",
       "    .dataframe tbody tr th {\n",
       "        vertical-align: top;\n",
       "    }\n",
       "\n",
       "    .dataframe thead th {\n",
       "        text-align: right;\n",
       "    }\n",
       "</style>\n",
       "<table border=\"1\" class=\"dataframe\">\n",
       "  <thead>\n",
       "    <tr style=\"text-align: right;\">\n",
       "      <th></th>\n",
       "      <th>f0</th>\n",
       "      <th>f1</th>\n",
       "      <th>f2</th>\n",
       "      <th>product</th>\n",
       "    </tr>\n",
       "  </thead>\n",
       "  <tbody>\n",
       "    <tr>\n",
       "      <th>count</th>\n",
       "      <td>100000.000000</td>\n",
       "      <td>100000.000000</td>\n",
       "      <td>100000.000000</td>\n",
       "      <td>100000.000000</td>\n",
       "    </tr>\n",
       "    <tr>\n",
       "      <th>mean</th>\n",
       "      <td>1.141296</td>\n",
       "      <td>-4.796579</td>\n",
       "      <td>2.494541</td>\n",
       "      <td>68.825000</td>\n",
       "    </tr>\n",
       "    <tr>\n",
       "      <th>std</th>\n",
       "      <td>8.965932</td>\n",
       "      <td>5.119872</td>\n",
       "      <td>1.703572</td>\n",
       "      <td>45.944423</td>\n",
       "    </tr>\n",
       "    <tr>\n",
       "      <th>min</th>\n",
       "      <td>-31.609576</td>\n",
       "      <td>-26.358598</td>\n",
       "      <td>-0.018144</td>\n",
       "      <td>0.000000</td>\n",
       "    </tr>\n",
       "    <tr>\n",
       "      <th>25%</th>\n",
       "      <td>-6.298551</td>\n",
       "      <td>-8.267985</td>\n",
       "      <td>1.000021</td>\n",
       "      <td>26.953261</td>\n",
       "    </tr>\n",
       "    <tr>\n",
       "      <th>50%</th>\n",
       "      <td>1.153055</td>\n",
       "      <td>-4.813172</td>\n",
       "      <td>2.011479</td>\n",
       "      <td>57.085625</td>\n",
       "    </tr>\n",
       "    <tr>\n",
       "      <th>75%</th>\n",
       "      <td>8.621015</td>\n",
       "      <td>-1.332816</td>\n",
       "      <td>3.999904</td>\n",
       "      <td>107.813044</td>\n",
       "    </tr>\n",
       "    <tr>\n",
       "      <th>max</th>\n",
       "      <td>29.421755</td>\n",
       "      <td>18.734063</td>\n",
       "      <td>5.019721</td>\n",
       "      <td>137.945408</td>\n",
       "    </tr>\n",
       "  </tbody>\n",
       "</table>\n",
       "</div>"
      ],
      "text/plain": [
       "                  f0             f1             f2        product\n",
       "count  100000.000000  100000.000000  100000.000000  100000.000000\n",
       "mean        1.141296      -4.796579       2.494541      68.825000\n",
       "std         8.965932       5.119872       1.703572      45.944423\n",
       "min       -31.609576     -26.358598      -0.018144       0.000000\n",
       "25%        -6.298551      -8.267985       1.000021      26.953261\n",
       "50%         1.153055      -4.813172       2.011479      57.085625\n",
       "75%         8.621015      -1.332816       3.999904     107.813044\n",
       "max        29.421755      18.734063       5.019721     137.945408"
      ]
     },
     "metadata": {},
     "output_type": "display_data"
    },
    {
     "data": {
      "text/html": [
       "<div>\n",
       "<style scoped>\n",
       "    .dataframe tbody tr th:only-of-type {\n",
       "        vertical-align: middle;\n",
       "    }\n",
       "\n",
       "    .dataframe tbody tr th {\n",
       "        vertical-align: top;\n",
       "    }\n",
       "\n",
       "    .dataframe thead th {\n",
       "        text-align: right;\n",
       "    }\n",
       "</style>\n",
       "<table border=\"1\" class=\"dataframe\">\n",
       "  <thead>\n",
       "    <tr style=\"text-align: right;\">\n",
       "      <th></th>\n",
       "      <th>f0</th>\n",
       "      <th>f1</th>\n",
       "      <th>f2</th>\n",
       "      <th>product</th>\n",
       "    </tr>\n",
       "  </thead>\n",
       "  <tbody>\n",
       "    <tr>\n",
       "      <th>count</th>\n",
       "      <td>100000.000000</td>\n",
       "      <td>100000.000000</td>\n",
       "      <td>100000.000000</td>\n",
       "      <td>100000.000000</td>\n",
       "    </tr>\n",
       "    <tr>\n",
       "      <th>mean</th>\n",
       "      <td>0.002023</td>\n",
       "      <td>-0.002081</td>\n",
       "      <td>2.495128</td>\n",
       "      <td>95.000000</td>\n",
       "    </tr>\n",
       "    <tr>\n",
       "      <th>std</th>\n",
       "      <td>1.732045</td>\n",
       "      <td>1.730417</td>\n",
       "      <td>3.473445</td>\n",
       "      <td>44.749921</td>\n",
       "    </tr>\n",
       "    <tr>\n",
       "      <th>min</th>\n",
       "      <td>-8.760004</td>\n",
       "      <td>-7.084020</td>\n",
       "      <td>-11.970335</td>\n",
       "      <td>0.000000</td>\n",
       "    </tr>\n",
       "    <tr>\n",
       "      <th>25%</th>\n",
       "      <td>-1.162288</td>\n",
       "      <td>-1.174820</td>\n",
       "      <td>0.130359</td>\n",
       "      <td>59.450441</td>\n",
       "    </tr>\n",
       "    <tr>\n",
       "      <th>50%</th>\n",
       "      <td>0.009424</td>\n",
       "      <td>-0.009482</td>\n",
       "      <td>2.484236</td>\n",
       "      <td>94.925613</td>\n",
       "    </tr>\n",
       "    <tr>\n",
       "      <th>75%</th>\n",
       "      <td>1.158535</td>\n",
       "      <td>1.163678</td>\n",
       "      <td>4.858794</td>\n",
       "      <td>130.595027</td>\n",
       "    </tr>\n",
       "    <tr>\n",
       "      <th>max</th>\n",
       "      <td>7.238262</td>\n",
       "      <td>7.844801</td>\n",
       "      <td>16.739402</td>\n",
       "      <td>190.029838</td>\n",
       "    </tr>\n",
       "  </tbody>\n",
       "</table>\n",
       "</div>"
      ],
      "text/plain": [
       "                  f0             f1             f2        product\n",
       "count  100000.000000  100000.000000  100000.000000  100000.000000\n",
       "mean        0.002023      -0.002081       2.495128      95.000000\n",
       "std         1.732045       1.730417       3.473445      44.749921\n",
       "min        -8.760004      -7.084020     -11.970335       0.000000\n",
       "25%        -1.162288      -1.174820       0.130359      59.450441\n",
       "50%         0.009424      -0.009482       2.484236      94.925613\n",
       "75%         1.158535       1.163678       4.858794     130.595027\n",
       "max         7.238262       7.844801      16.739402     190.029838"
      ]
     },
     "metadata": {},
     "output_type": "display_data"
    }
   ],
   "source": [
    "for df in data:\n",
    "    display(df.describe())"
   ]
  },
  {
   "cell_type": "markdown",
   "id": "76d31568",
   "metadata": {},
   "source": [
    "Внутренние метрики из `geo_data_1.csv` сильно отличаются от других регионов, а средний запас нефти ниже."
   ]
  },
  {
   "cell_type": "code",
   "execution_count": 8,
   "id": "9deeb145",
   "metadata": {
    "scrolled": false
   },
   "outputs": [
    {
     "data": {
      "image/png": "[encoded data removed]",
      "text/plain": [
       "<Figure size 1000x500 with 4 Axes>"
      ]
     },
     "metadata": {},
     "output_type": "display_data"
    },
    {
     "data": {
      "image/png": "[encoded data removed]",
      "text/plain": [
       "<Figure size 1000x500 with 4 Axes>"
      ]
     },
     "metadata": {},
     "output_type": "display_data"
    },
    {
     "data": {
      "image/png": "[encoded data removed]",
      "text/plain": [
       "<Figure size 1000x500 with 4 Axes>"
      ]
     },
     "metadata": {},
     "output_type": "display_data"
    }
   ],
   "source": [
    "# create hist for each column\n",
    "for df in data:\n",
    "    df.hist(figsize=(10, 5));"
   ]
  },
  {
   "cell_type": "markdown",
   "id": "329c6056",
   "metadata": {},
   "source": [
    "Распределение значений объёмов нефти в скважинах из `geo_data_1.csv` также сильно отличается от других регионов."
   ]
  },
  {
   "cell_type": "code",
   "execution_count": 9,
   "id": "0b9604f7",
   "metadata": {},
   "outputs": [
    {
     "data": {
      "text/html": [
       "<style type=\"text/css\">\n",
       "#T_75315_row0_col0, #T_75315_row1_col1, #T_75315_row2_col2, #T_75315_row3_col3 {\n",
       "  background-color: #800000;\n",
       "  color: #f1f1f1;\n",
       "  font-size: 10px;\n",
       "}\n",
       "#T_75315_row0_col1, #T_75315_row0_col2, #T_75315_row1_col0, #T_75315_row1_col2, #T_75315_row1_col3 {\n",
       "  background-color: #00004c;\n",
       "  color: #f1f1f1;\n",
       "  font-size: 10px;\n",
       "}\n",
       "#T_75315_row0_col3 {\n",
       "  background-color: #1919ff;\n",
       "  color: #f1f1f1;\n",
       "  font-size: 10px;\n",
       "}\n",
       "#T_75315_row2_col0, #T_75315_row2_col1 {\n",
       "  background-color: #3939ff;\n",
       "  color: #f1f1f1;\n",
       "  font-size: 10px;\n",
       "}\n",
       "#T_75315_row2_col3 {\n",
       "  background-color: #ffbdbd;\n",
       "  color: #000000;\n",
       "  font-size: 10px;\n",
       "}\n",
       "#T_75315_row3_col0 {\n",
       "  background-color: #9d9dff;\n",
       "  color: #f1f1f1;\n",
       "  font-size: 10px;\n",
       "}\n",
       "#T_75315_row3_col1 {\n",
       "  background-color: #0000c8;\n",
       "  color: #f1f1f1;\n",
       "  font-size: 10px;\n",
       "}\n",
       "#T_75315_row3_col2 {\n",
       "  background-color: #e9e9ff;\n",
       "  color: #000000;\n",
       "  font-size: 10px;\n",
       "}\n",
       "</style>\n",
       "<table id=\"T_75315\">\n",
       "  <thead>\n",
       "    <tr>\n",
       "      <th class=\"blank level0\" >&nbsp;</th>\n",
       "      <th id=\"T_75315_level0_col0\" class=\"col_heading level0 col0\" >f0</th>\n",
       "      <th id=\"T_75315_level0_col1\" class=\"col_heading level0 col1\" >f1</th>\n",
       "      <th id=\"T_75315_level0_col2\" class=\"col_heading level0 col2\" >f2</th>\n",
       "      <th id=\"T_75315_level0_col3\" class=\"col_heading level0 col3\" >product</th>\n",
       "    </tr>\n",
       "  </thead>\n",
       "  <tbody>\n",
       "    <tr>\n",
       "      <th id=\"T_75315_level0_row0\" class=\"row_heading level0 row0\" >f0</th>\n",
       "      <td id=\"T_75315_row0_col0\" class=\"data row0 col0\" >1.000000</td>\n",
       "      <td id=\"T_75315_row0_col1\" class=\"data row0 col1\" >-0.440000</td>\n",
       "      <td id=\"T_75315_row0_col2\" class=\"data row0 col2\" >-0.000000</td>\n",
       "      <td id=\"T_75315_row0_col3\" class=\"data row0 col3\" >0.140000</td>\n",
       "    </tr>\n",
       "    <tr>\n",
       "      <th id=\"T_75315_level0_row1\" class=\"row_heading level0 row1\" >f1</th>\n",
       "      <td id=\"T_75315_row1_col0\" class=\"data row1 col0\" >-0.440000</td>\n",
       "      <td id=\"T_75315_row1_col1\" class=\"data row1 col1\" >1.000000</td>\n",
       "      <td id=\"T_75315_row1_col2\" class=\"data row1 col2\" >0.000000</td>\n",
       "      <td id=\"T_75315_row1_col3\" class=\"data row1 col3\" >-0.190000</td>\n",
       "    </tr>\n",
       "    <tr>\n",
       "      <th id=\"T_75315_level0_row2\" class=\"row_heading level0 row2\" >f2</th>\n",
       "      <td id=\"T_75315_row2_col0\" class=\"data row2 col0\" >-0.000000</td>\n",
       "      <td id=\"T_75315_row2_col1\" class=\"data row2 col1\" >0.000000</td>\n",
       "      <td id=\"T_75315_row2_col2\" class=\"data row2 col2\" >1.000000</td>\n",
       "      <td id=\"T_75315_row2_col3\" class=\"data row2 col3\" >0.480000</td>\n",
       "    </tr>\n",
       "    <tr>\n",
       "      <th id=\"T_75315_level0_row3\" class=\"row_heading level0 row3\" >product</th>\n",
       "      <td id=\"T_75315_row3_col0\" class=\"data row3 col0\" >0.140000</td>\n",
       "      <td id=\"T_75315_row3_col1\" class=\"data row3 col1\" >-0.190000</td>\n",
       "      <td id=\"T_75315_row3_col2\" class=\"data row3 col2\" >0.480000</td>\n",
       "      <td id=\"T_75315_row3_col3\" class=\"data row3 col3\" >1.000000</td>\n",
       "    </tr>\n",
       "  </tbody>\n",
       "</table>\n"
      ],
      "text/plain": [
       "<pandas.io.formats.style.Styler at 0x1caa17d24d0>"
      ]
     },
     "metadata": {},
     "output_type": "display_data"
    },
    {
     "data": {
      "text/html": [
       "<style type=\"text/css\">\n",
       "#T_5d997_row0_col0, #T_5d997_row1_col1, #T_5d997_row2_col2, #T_5d997_row2_col3, #T_5d997_row3_col2, #T_5d997_row3_col3 {\n",
       "  background-color: #800000;\n",
       "  color: #f1f1f1;\n",
       "  font-size: 10px;\n",
       "}\n",
       "#T_5d997_row0_col1 {\n",
       "  background-color: #0000d3;\n",
       "  color: #f1f1f1;\n",
       "  font-size: 10px;\n",
       "}\n",
       "#T_5d997_row0_col2, #T_5d997_row0_col3, #T_5d997_row1_col2, #T_5d997_row3_col0, #T_5d997_row3_col1 {\n",
       "  background-color: #00004c;\n",
       "  color: #f1f1f1;\n",
       "  font-size: 10px;\n",
       "}\n",
       "#T_5d997_row1_col0 {\n",
       "  background-color: #0000de;\n",
       "  color: #f1f1f1;\n",
       "  font-size: 10px;\n",
       "}\n",
       "#T_5d997_row1_col3 {\n",
       "  background-color: #000058;\n",
       "  color: #f1f1f1;\n",
       "  font-size: 10px;\n",
       "}\n",
       "#T_5d997_row2_col0 {\n",
       "  background-color: #000060;\n",
       "  color: #f1f1f1;\n",
       "  font-size: 10px;\n",
       "}\n",
       "#T_5d997_row2_col1 {\n",
       "  background-color: #000052;\n",
       "  color: #f1f1f1;\n",
       "  font-size: 10px;\n",
       "}\n",
       "</style>\n",
       "<table id=\"T_5d997\">\n",
       "  <thead>\n",
       "    <tr>\n",
       "      <th class=\"blank level0\" >&nbsp;</th>\n",
       "      <th id=\"T_5d997_level0_col0\" class=\"col_heading level0 col0\" >f0</th>\n",
       "      <th id=\"T_5d997_level0_col1\" class=\"col_heading level0 col1\" >f1</th>\n",
       "      <th id=\"T_5d997_level0_col2\" class=\"col_heading level0 col2\" >f2</th>\n",
       "      <th id=\"T_5d997_level0_col3\" class=\"col_heading level0 col3\" >product</th>\n",
       "    </tr>\n",
       "  </thead>\n",
       "  <tbody>\n",
       "    <tr>\n",
       "      <th id=\"T_5d997_level0_row0\" class=\"row_heading level0 row0\" >f0</th>\n",
       "      <td id=\"T_5d997_row0_col0\" class=\"data row0 col0\" >1.000000</td>\n",
       "      <td id=\"T_5d997_row0_col1\" class=\"data row0 col1\" >0.180000</td>\n",
       "      <td id=\"T_5d997_row0_col2\" class=\"data row0 col2\" >-0.000000</td>\n",
       "      <td id=\"T_5d997_row0_col3\" class=\"data row0 col3\" >-0.030000</td>\n",
       "    </tr>\n",
       "    <tr>\n",
       "      <th id=\"T_5d997_level0_row1\" class=\"row_heading level0 row1\" >f1</th>\n",
       "      <td id=\"T_5d997_row1_col0\" class=\"data row1 col0\" >0.180000</td>\n",
       "      <td id=\"T_5d997_row1_col1\" class=\"data row1 col1\" >1.000000</td>\n",
       "      <td id=\"T_5d997_row1_col2\" class=\"data row1 col2\" >-0.000000</td>\n",
       "      <td id=\"T_5d997_row1_col3\" class=\"data row1 col3\" >-0.010000</td>\n",
       "    </tr>\n",
       "    <tr>\n",
       "      <th id=\"T_5d997_level0_row2\" class=\"row_heading level0 row2\" >f2</th>\n",
       "      <td id=\"T_5d997_row2_col0\" class=\"data row2 col0\" >-0.000000</td>\n",
       "      <td id=\"T_5d997_row2_col1\" class=\"data row2 col1\" >-0.000000</td>\n",
       "      <td id=\"T_5d997_row2_col2\" class=\"data row2 col2\" >1.000000</td>\n",
       "      <td id=\"T_5d997_row2_col3\" class=\"data row2 col3\" >1.000000</td>\n",
       "    </tr>\n",
       "    <tr>\n",
       "      <th id=\"T_5d997_level0_row3\" class=\"row_heading level0 row3\" >product</th>\n",
       "      <td id=\"T_5d997_row3_col0\" class=\"data row3 col0\" >-0.030000</td>\n",
       "      <td id=\"T_5d997_row3_col1\" class=\"data row3 col1\" >-0.010000</td>\n",
       "      <td id=\"T_5d997_row3_col2\" class=\"data row3 col2\" >1.000000</td>\n",
       "      <td id=\"T_5d997_row3_col3\" class=\"data row3 col3\" >1.000000</td>\n",
       "    </tr>\n",
       "  </tbody>\n",
       "</table>\n"
      ],
      "text/plain": [
       "<pandas.io.formats.style.Styler at 0x1ca9f676380>"
      ]
     },
     "metadata": {},
     "output_type": "display_data"
    },
    {
     "data": {
      "text/html": [
       "<style type=\"text/css\">\n",
       "#T_849cb_row0_col0, #T_849cb_row1_col1, #T_849cb_row2_col2, #T_849cb_row3_col3 {\n",
       "  background-color: #800000;\n",
       "  color: #f1f1f1;\n",
       "  font-size: 10px;\n",
       "}\n",
       "#T_849cb_row0_col1, #T_849cb_row0_col2, #T_849cb_row0_col3, #T_849cb_row1_col0, #T_849cb_row1_col2, #T_849cb_row1_col3, #T_849cb_row2_col0, #T_849cb_row2_col1, #T_849cb_row3_col0, #T_849cb_row3_col1 {\n",
       "  background-color: #00004c;\n",
       "  color: #f1f1f1;\n",
       "  font-size: 10px;\n",
       "}\n",
       "#T_849cb_row2_col3, #T_849cb_row3_col2 {\n",
       "  background-color: #cdcdff;\n",
       "  color: #000000;\n",
       "  font-size: 10px;\n",
       "}\n",
       "</style>\n",
       "<table id=\"T_849cb\">\n",
       "  <thead>\n",
       "    <tr>\n",
       "      <th class=\"blank level0\" >&nbsp;</th>\n",
       "      <th id=\"T_849cb_level0_col0\" class=\"col_heading level0 col0\" >f0</th>\n",
       "      <th id=\"T_849cb_level0_col1\" class=\"col_heading level0 col1\" >f1</th>\n",
       "      <th id=\"T_849cb_level0_col2\" class=\"col_heading level0 col2\" >f2</th>\n",
       "      <th id=\"T_849cb_level0_col3\" class=\"col_heading level0 col3\" >product</th>\n",
       "    </tr>\n",
       "  </thead>\n",
       "  <tbody>\n",
       "    <tr>\n",
       "      <th id=\"T_849cb_level0_row0\" class=\"row_heading level0 row0\" >f0</th>\n",
       "      <td id=\"T_849cb_row0_col0\" class=\"data row0 col0\" >1.000000</td>\n",
       "      <td id=\"T_849cb_row0_col1\" class=\"data row0 col1\" >0.000000</td>\n",
       "      <td id=\"T_849cb_row0_col2\" class=\"data row0 col2\" >-0.000000</td>\n",
       "      <td id=\"T_849cb_row0_col3\" class=\"data row0 col3\" >-0.000000</td>\n",
       "    </tr>\n",
       "    <tr>\n",
       "      <th id=\"T_849cb_level0_row1\" class=\"row_heading level0 row1\" >f1</th>\n",
       "      <td id=\"T_849cb_row1_col0\" class=\"data row1 col0\" >0.000000</td>\n",
       "      <td id=\"T_849cb_row1_col1\" class=\"data row1 col1\" >1.000000</td>\n",
       "      <td id=\"T_849cb_row1_col2\" class=\"data row1 col2\" >0.000000</td>\n",
       "      <td id=\"T_849cb_row1_col3\" class=\"data row1 col3\" >-0.000000</td>\n",
       "    </tr>\n",
       "    <tr>\n",
       "      <th id=\"T_849cb_level0_row2\" class=\"row_heading level0 row2\" >f2</th>\n",
       "      <td id=\"T_849cb_row2_col0\" class=\"data row2 col0\" >-0.000000</td>\n",
       "      <td id=\"T_849cb_row2_col1\" class=\"data row2 col1\" >0.000000</td>\n",
       "      <td id=\"T_849cb_row2_col2\" class=\"data row2 col2\" >1.000000</td>\n",
       "      <td id=\"T_849cb_row2_col3\" class=\"data row2 col3\" >0.450000</td>\n",
       "    </tr>\n",
       "    <tr>\n",
       "      <th id=\"T_849cb_level0_row3\" class=\"row_heading level0 row3\" >product</th>\n",
       "      <td id=\"T_849cb_row3_col0\" class=\"data row3 col0\" >-0.000000</td>\n",
       "      <td id=\"T_849cb_row3_col1\" class=\"data row3 col1\" >-0.000000</td>\n",
       "      <td id=\"T_849cb_row3_col2\" class=\"data row3 col2\" >0.450000</td>\n",
       "      <td id=\"T_849cb_row3_col3\" class=\"data row3 col3\" >1.000000</td>\n",
       "    </tr>\n",
       "  </tbody>\n",
       "</table>\n"
      ],
      "text/plain": [
       "<pandas.io.formats.style.Styler at 0x1ca9ecf2e00>"
      ]
     },
     "metadata": {},
     "output_type": "display_data"
    }
   ],
   "source": [
    "# print correlation matrix\n",
    "for df in data:\n",
    "    display(\n",
    "        df.corr()\n",
    "        .round(2)\n",
    "        .style.background_gradient(cmap ='seismic')\n",
    "        .set_properties(**{'font-size': '10px'})\n",
    "           )"
   ]
  },
  {
   "cell_type": "code",
   "execution_count": 10,
   "id": "8e9cc321",
   "metadata": {},
   "outputs": [
    {
     "data": {
      "image/png": "[encoded data removed]",
      "text/plain": [
       "<Figure size 1000x600 with 9 Axes>"
      ]
     },
     "metadata": {},
     "output_type": "display_data"
    }
   ],
   "source": [
    "plt.rcParams[\"figure.figsize\"] = (10,6)\n",
    "xy=1\n",
    "cols_to_check = ['f0', 'f1', 'f2']\n",
    "for i in range(len(data)):\n",
    "    for j in range(len(cols_to_check)):\n",
    "        plt.subplot(len(data), len(cols_to_check), xy)\n",
    "        x = data[i]['product']\n",
    "        y = data[i][cols_to_check[j]]\n",
    "        plt.scatter(x,y)\n",
    "        plt.grid()\n",
    "        xy += 1"
   ]
  },
  {
   "cell_type": "markdown",
   "id": "070ded94",
   "metadata": {},
   "source": [
    "Аномально высокая корреляция в `geo_data_1.csv` между внутренней метрикой `f2` и `product`, когда в других данных эта корреляция значительно меньше. В целом данные `geo_data_1` сильно отличаются от остальных."
   ]
  },
  {
   "cell_type": "markdown",
   "id": "f3678e1c",
   "metadata": {},
   "source": [
    "**Вывод:** Проанализировав общую информацию мы установили:\n",
    "- Ошибки оформления и пропуски в данных отсутствуют. Данные не нуждаются в предобработке. Столбец `id` при обучении модели нужно будет исключить.\n",
    "- Данные из `geo_data_1.csv` значительно отличаются от данных из остальных источников.\n",
    "- В данных `geo_data_1.csv` присутствует высокая корреляция между метрикой `f2` и целевым признаком `product`.\n",
    "\n",
    "Перед тем как приступим к обучению, разделим данные на обучающую и валидационную выборки, затем обучим модели для каждого региона и проверим их точность на валидационых выборках. После этого проведём рассчёты некоторых метрик и, основываясь на предсказаниях моделей, найдём операционные прибыли для каждого региона."
   ]
  },
  {
   "cell_type": "markdown",
   "id": "a9973cbb",
   "metadata": {},
   "source": [
    "## Обучение модели"
   ]
  },
  {
   "cell_type": "markdown",
   "id": "bb8ee0f2",
   "metadata": {},
   "source": [
    "Перед нами стоит задача регрессии и для её выполнения будем использовать модель `LinearRegression` из модуля `linear_model`, библиотеки `sklearn`. Это простая и предсказуемая линейная модель (она выводит и в последствии подчиняется одной формуле для нахождения максимально близкого к реальным значеням предсказания). Для проверки качества модели будем пользоваться метрикой `RMSE` - корнем из средней квадратичной ошибки (средняя разница между прогнозами и фактическими значениями)."
   ]
  },
  {
   "cell_type": "markdown",
   "id": "c29aa240",
   "metadata": {},
   "source": [
    "### Разделение данных на выборки"
   ]
  },
  {
   "cell_type": "markdown",
   "id": "b24296e2",
   "metadata": {},
   "source": [
    "Выделим признаки (исключив `id`) и целевой признак для каждого датасета. Разобьём имеющиеся данные на обучающие (75%) и валидационные (25%) выборки и затем стандартизируем признаки."
   ]
  },
  {
   "cell_type": "code",
   "execution_count": 11,
   "id": "e1e87c5a",
   "metadata": {},
   "outputs": [],
   "source": [
    "features = {} # dict of features\n",
    "target = {} # dict of target\n",
    "\n",
    "for i in range(len(data)):\n",
    "    features[i] = data[i].drop(['id', 'product'], axis=1)\n",
    "    target[i] = data[i]['product']"
   ]
  },
  {
   "cell_type": "code",
   "execution_count": 12,
   "id": "1455ca88",
   "metadata": {},
   "outputs": [],
   "source": [
    "size=0.25 # test subset size variable\n",
    "features_train = {}\n",
    "features_valid = {}\n",
    "target_train = {}\n",
    "target_valid = {}\n",
    "\n",
    "# split data into train and validation subsets\n",
    "for i in range(len(data)):\n",
    "    features_train[i], features_valid[i], target_train[i], target_valid[i] = \\\n",
    "    train_test_split(\n",
    "        features[i], target[i],\n",
    "        test_size=size,\n",
    "        random_state=state\n",
    "    )"
   ]
  },
  {
   "cell_type": "markdown",
   "id": "71e50e5f",
   "metadata": {},
   "source": [
    "### Обучение"
   ]
  },
  {
   "cell_type": "markdown",
   "id": "d113db9d",
   "metadata": {},
   "source": [
    "Обучим модели и проверим, какие средние значения объёмов нефти они предсказывают. Для контроля качества модели также выведем метрику RMSE."
   ]
  },
  {
   "cell_type": "code",
   "execution_count": 13,
   "id": "26fa1e3f",
   "metadata": {},
   "outputs": [],
   "source": [
    "# print rmse\n",
    "def metrics(y_true, y_pred):\n",
    "    rmse = mean_squared_error(y_true, y_pred) ** 0.5\n",
    "    prod_mean = y_pred.mean()\n",
    "    print(f\"Средний запас предсказанного сырья = {prod_mean}, RMSE модели = {rmse}\")"
   ]
  },
  {
   "cell_type": "code",
   "execution_count": 14,
   "id": "6d8a01e6",
   "metadata": {},
   "outputs": [
    {
     "name": "stdout",
     "output_type": "stream",
     "text": [
      "Показатели для региона 0\n",
      "Средний запас предсказанного сырья = 92.59256778438035, RMSE модели = 37.5794217150813\n",
      "\n",
      "Показатели для региона 1\n",
      "Средний запас предсказанного сырья = 68.76995145799754, RMSE модели = 0.8897367737680651\n",
      "\n",
      "Показатели для региона 2\n",
      "Средний запас предсказанного сырья = 95.087528122523, RMSE модели = 39.958042459521614\n",
      "\n"
     ]
    }
   ],
   "source": [
    "predicts = {} # dict of predicts\n",
    "\n",
    "for i in range(len(data)):\n",
    "    mod = LinearRegression().fit(features_train[i], target_train[i])\n",
    "    predicts[i] = pd.Series(mod.predict(features_valid[i]))\n",
    "    print('Показатели для региона', i)\n",
    "    metrics(target_valid[i], predicts[i])\n",
    "    print()"
   ]
  },
  {
   "cell_type": "markdown",
   "id": "932c0eee",
   "metadata": {},
   "source": [
    "`RMSE` региона `geo_data_1` значительно ниже, чем у остальных регионов. Такой показатель метрики может служить индикатором того, что данные собраны некорректно. В наших данных целевой признак слишком линейно зависим от одного из признаков. Возможно в данных ошибка, но и возможно, что конкретно в этом регионе действительно существует прямая связь между `f2` и объемом скважины. Для остальных регионов значения `RMSE` очень высоки."
   ]
  },
  {
   "cell_type": "markdown",
   "id": "e52a77f2",
   "metadata": {},
   "source": [
    "**Вывод:** Линейная регрессия хорошо справляется с предсказанием количественных значений и отличается хорошей интерпретируемостью.\n",
    "\n",
    "Нами были обучены модели `model0`, `model1` и `model2` для каждого из регионов, соответственно."
   ]
  },
  {
   "cell_type": "markdown",
   "id": "7f0e36fd",
   "metadata": {},
   "source": [
    "## Анализ предсказаний"
   ]
  },
  {
   "cell_type": "markdown",
   "id": "379261dc",
   "metadata": {},
   "source": [
    "Объёмы запасов в скважинах даны в тысячах баррелей. \n",
    "\n",
    "- Один баррель приносит 450 рублей дохода. \n",
    "- При разведке региона исследуют 500 потенциальных скважин. \n",
    "- На разработку 200 лучших скважин в регионе выделяется 10 млрд. \n",
    "\n",
    "Рассчёт бюджета, требуемуго для разработки каждой скважины, рассчитывается индивидуально и учитывает в себе множество факторов, таких как глубина бассейна, твёрдость почвы, сложность доставки оборудования и др, но мы можем усреднить этот показатель и предположить, что на каждую скважину выделяется одна и та же сумма."
   ]
  },
  {
   "cell_type": "markdown",
   "id": "fb6d877e",
   "metadata": {},
   "source": [
    "### Рассчёт достаточного объёма сырья для безубыточной разработки новой скважины"
   ]
  },
  {
   "cell_type": "markdown",
   "id": "614ab121",
   "metadata": {},
   "source": [
    "Проведём рассчёты некоторых бизнес-метрик и рассчитаем объём сырья, необходимый для безубыточной разработки новой скважины."
   ]
  },
  {
   "cell_type": "code",
   "execution_count": 15,
   "id": "1fc92caa",
   "metadata": {},
   "outputs": [
    {
     "name": "stdout",
     "output_type": "stream",
     "text": [
      "Средний бюджет на разработку одной скважины равен 50 млн. рублей.\n",
      "Объём нефти, требуемый для окупаемости скважины, равен 111 тысяч баррелей\n"
     ]
    }
   ],
   "source": [
    "oil_well_budget = round(REGION_BUDGET/TOP_WELLS) # Бюджет, выделяемый на одну скважину в рублях\n",
    "required_volume = round(oil_well_budget/BARREL_REVENUE) # требуемый объем сырья для безубыточной разработки в тыс. баррелей\n",
    "\n",
    "print(f\"Средний бюджет на разработку одной скважины равен {int(oil_well_budget/1000000)} млн. рублей.\")\n",
    "print(f\"Объём нефти, требуемый для окупаемости скважины, равен {required_volume} тысяч баррелей\")"
   ]
  },
  {
   "cell_type": "markdown",
   "id": "0a22ba2f",
   "metadata": {},
   "source": [
    "Сравним требуемый объём сырья со средним запасом в каждом регионе. "
   ]
  },
  {
   "cell_type": "code",
   "execution_count": 16,
   "id": "34d101c9",
   "metadata": {},
   "outputs": [
    {
     "name": "stdout",
     "output_type": "stream",
     "text": [
      "Средний запас сырья в 0 регионе равен 93, что меньше требуемого для окупаемости.\n",
      "Средний запас сырья в 1 регионе равен 69, что меньше требуемого для окупаемости.\n",
      "Средний запас сырья в 2 регионе равен 95, что меньше требуемого для окупаемости.\n"
     ]
    }
   ],
   "source": [
    "for i in range(len(data)):\n",
    "    mean = data[i]['product'].mean()\n",
    "    if mean > required_volume:\n",
    "        print(f\"Средний запас сырья в {i} регионе равен {round(mean)}, что больше требуемого для окупаемости.\")\n",
    "    elif mean == required_volume:\n",
    "        print(f\"Средний запас сырья в {i} регионе равен {round(mean)} и равен требуемому для окупаемости.\")\n",
    "    else:\n",
    "        print(f\"Средний запас сырья в {i} регионе равен {round(mean)}, что меньше требуемого для окупаемости.\")"
   ]
  },
  {
   "cell_type": "markdown",
   "id": "a1e225eb",
   "metadata": {},
   "source": [
    "**Вывод:** Объём нефти, требуемый для безубыточной разработки скважины, равен 111.1 тысяч баррелей. Именно это значение должнен превышать объём запасов нефти, чтобы разработка скважины окупилась. Но ни в одном регионе среднее значение `product`не доходит до требуемого."
   ]
  },
  {
   "cell_type": "markdown",
   "id": "568f866d",
   "metadata": {},
   "source": [
    "### Функция рассчёта прибыли по выбранным скважинам и предсказаниям модели"
   ]
  },
  {
   "cell_type": "markdown",
   "id": "9e9fb0c9",
   "metadata": {},
   "source": [
    "Напишем функцию для расчёта прибыли по выбранным скважинам и предсказаниям модели. На вход функции даётся список значений `product`, предсказанных моделью и список известных нам реальных значений. Функция возвращает спрогнозированную операционную прибыль, рассчитанную по выбранным 200 лучшим скважинам и фактическую прибыль по ним же."
   ]
  },
  {
   "cell_type": "code",
   "execution_count": 17,
   "id": "9e4d8d28",
   "metadata": {},
   "outputs": [],
   "source": [
    "def calc_profit(subsample):\n",
    "    \n",
    "    # create temporary dataframe\n",
    "    temp = pd.DataFrame(subsample, columns=['predicted'])\n",
    "    \n",
    "    # reset target index\n",
    "    target = target_valid[i].reset_index(drop='True')\n",
    "\n",
    "    # add true 'product' column\n",
    "    temp['target'] = target[subsample.index]\n",
    "\n",
    "    # sort predicted 'product' by descending and leave only first 'TOP_WELLS'\n",
    "    temp = temp.sort_values(by='predicted', ascending=False)[:TOP_WELLS]\n",
    "    \n",
    "    # calculate sum of top 200 predicted 'product' values\n",
    "    sum_p_prod = sum(temp['predicted'])\n",
    "\n",
    "    # calculate sum of true 'product' values\n",
    "    sum_r_prod = sum(temp['target'])\n",
    "\n",
    "    # calculate predicted profit for top 200 wells\n",
    "    p_profit = sum_p_prod * BARREL_REVENUE - TOP_WELLS * oil_well_budget\n",
    "    \n",
    "    # calculate real profit\n",
    "    r_profit = sum_r_prod * BARREL_REVENUE - TOP_WELLS * oil_well_budget\n",
    "    \n",
    "    return p_profit, r_profit"
   ]
  },
  {
   "cell_type": "markdown",
   "id": "e8e5c84f",
   "metadata": {},
   "source": [
    "### Рассчёт рисков и прибыли для каждого региона"
   ]
  },
  {
   "cell_type": "markdown",
   "id": "ede88705",
   "metadata": {},
   "source": [
    "Мы знаем, что при разведке региона исследуют 500 точек, из которых выбирают 200 лучших для разработки. С помощью техники `bootstrap` для каждого региона симулируем 1000 сценариев разведки и посчитаем для каждого сценария операционную прибыль."
   ]
  },
  {
   "cell_type": "code",
   "execution_count": 18,
   "id": "f7774888",
   "metadata": {
    "scrolled": false
   },
   "outputs": [],
   "source": [
    "bootstrap_samples = 1000 # number of iterations\n",
    "pred_profit = {} # dict of predicted profit\n",
    "real_profit = {} # dict for real profit\n",
    "\n",
    "for i in range(len(data)):\n",
    "    values_p = []\n",
    "    values_r = []\n",
    "    for j in range(bootstrap_samples):\n",
    "        # take sample of region wells features, number of samples = potential_wells\n",
    "        subsample = predicts[i].sample(n=POTENTIAL_WELLS, replace=True, random_state=state)\n",
    "        # calculate predicted and real profit\n",
    "        p_profit, r_profit = calc_profit(subsample)\n",
    "        values_p.append(p_profit)\n",
    "        values_r.append(r_profit)\n",
    "    # save results\n",
    "    pred_profit[i] = pd.Series(values_p)\n",
    "    real_profit[i] = pd.Series(values_r)"
   ]
  },
  {
   "cell_type": "markdown",
   "id": "b0a1149f",
   "metadata": {},
   "source": [
    "Посмотрим, как распределена прибыль, посчитанная бутстрэппингом."
   ]
  },
  {
   "cell_type": "code",
   "execution_count": 19,
   "id": "56f5726b",
   "metadata": {},
   "outputs": [
    {
     "data": {
      "image/png": "[encoded data removed]",
      "text/plain": [
       "<Figure size 1000x300 with 2 Axes>"
      ]
     },
     "metadata": {},
     "output_type": "display_data"
    },
    {
     "data": {
      "image/png": "[encoded data removed]",
      "text/plain": [
       "<Figure size 1000x300 with 2 Axes>"
      ]
     },
     "metadata": {},
     "output_type": "display_data"
    },
    {
     "data": {
      "image/png": "[encoded data removed]",
      "text/plain": [
       "<Figure size 1000x300 with 2 Axes>"
      ]
     },
     "metadata": {},
     "output_type": "display_data"
    }
   ],
   "source": [
    "for i in range(len(data)):\n",
    "    fig, (ax1, ax2) = plt.subplots(1, 2, figsize=(10, 3))\n",
    "    ax1.hist(pred_profit[i])\n",
    "    ax1.set_title(f\"Предсказанная прибыль региона {i}\")\n",
    "    ax2.hist(real_profit[i])\n",
    "    ax2.set_title(f\"Фактическая прибыль региона {i}\")"
   ]
  },
  {
   "cell_type": "markdown",
   "id": "29d3cb33",
   "metadata": {},
   "source": [
    "Операционные прибыли распределились нормально. Найдём для предсказанной прибыли среднее по выборке, 95%-й доверительный интервал (значения, между которыми с 95%-й вероятностью находится истинное среднее) и риск убытков."
   ]
  },
  {
   "cell_type": "code",
   "execution_count": 20,
   "id": "4584e1dc",
   "metadata": {},
   "outputs": [
    {
     "name": "stdout",
     "output_type": "stream",
     "text": [
      "Средняя предсказанная операционная прибыль по региону 0 равна 354764300\n",
      "Средняя фактическая операционная прибыль по региону 0 равна 394284411\n",
      "95%-й доверительный интервал прибыли:129174860 - 589962592\n",
      "Предсказанный риск убытков составляет 0.1%\n",
      "Фактический риск убытков составляет 6.1%\n",
      "\n",
      "Средняя предсказанная операционная прибыль по региону 1 равна 452735534\n",
      "Средняя фактическая операционная прибыль по региону 1 равна 454736359\n",
      "95%-й доверительный интервал прибыли:59256641 - 857261830\n",
      "Предсказанный риск убытков составляет 0.7%\n",
      "Фактический риск убытков составляет 0.7%\n",
      "\n",
      "Средняя предсказанная операционная прибыль по региону 2 равна 285282237\n",
      "Средняя фактическая операционная прибыль по региону 2 равна 353664098\n",
      "95%-й доверительный интервал прибыли:92596349 - 478674368\n",
      "Предсказанный риск убытков составляет 0.2%\n",
      "Фактический риск убытков составляет 7.6%\n",
      "\n"
     ]
    }
   ],
   "source": [
    "for i in range(len(data)):\n",
    "    pred_mean = round(pred_profit[i].mean())\n",
    "    true_mean = round(real_profit[i].mean())\n",
    "    lower = round(pred_profit[i].quantile(0.025))\n",
    "    upper = round(pred_profit[i].quantile(0.975))\n",
    "    pred_risk = round((pred_profit[i] < 0).sum()/(len(pred_profit[i]))*100, 1)\n",
    "    true_risk = round((real_profit[i] < 0).sum()/(len(real_profit[i]))*100, 1)\n",
    "    print(f\"Средняя предсказанная операционная прибыль по региону {i} равна {pred_mean}\")\n",
    "    print(f\"Средняя фактическая операционная прибыль по региону {i} равна {true_mean}\")\n",
    "    print(f\"95%-й доверительный интервал прибыли:{lower} - {upper}\")\n",
    "    print(f\"Предсказанный риск убытков составляет {pred_risk}%\")\n",
    "    print(f\"Фактический риск убытков составляет {true_risk}%\")\n",
    "    print()"
   ]
  },
  {
   "cell_type": "markdown",
   "id": "167867bb",
   "metadata": {},
   "source": [
    "**Вывод:** Средняя предсказанная операционная прибыль по 1 региону ближе остальных к фактической. Это связано с тем, что модель хорошо обучилась на данных и хорошо предсказывает объёмы нефти в скважинах. Это позволяет алгоритму точнее отбирать лучшие скважины в регионе для последующей их разработки. Если такой результат получился не под влиянием искаженных данных, то за счёт предсказаний, выбрав для разведки 1 регион, можно будет добиться самой высокой прибыли с минимальными рисками. Для других регионов предсказания модели недотаточно точны, чтобы соответствовать условию, что вероятность убытков должна быть меньше 2.5%."
   ]
  },
  {
   "cell_type": "markdown",
   "id": "ac430cff",
   "metadata": {},
   "source": [
    "## Общий вывод по проделанной работе"
   ]
  },
  {
   "cell_type": "markdown",
   "id": "d99baf57",
   "metadata": {},
   "source": [
    "Рассмотрев с данные по несколькоим регионам, мы выделили необычную корреляцию между метрикой `f2` и интересующими нас значениями `product` (объёмами нефти в скважинах) у региона `1`.\n",
    "\n",
    "С задачей прогнозирования численных значений целевого признака по нескольким признакам хорошо справляется линейная регрессия. Важным её преимуществом является также то, что результаты её предсказаний хорошо интерпретируются. \n",
    "\n",
    "Обучив для каждого региона модель `LinearRegression` и проверив их качество метрикой `RMSE` (среднеквадратичная ошибка), мы пришли к выводу, что модель лучше всего обучилась на данных по региону `1`.\n",
    "\n",
    "Затем были произведены рассчёты следующих показателей:\n",
    "- `oil_well_budget` = 50 млн. рублей - Бюджет, выделяемый на одну скважину в рублях\n",
    "- `required_volume` = 111 тыс. баррелей - объем сырья, требуемый для безубыточной разработки\n",
    "\n",
    "Для каждого региона тысячу раз из 500 случайно выбранных скважин с помощью предсказаний модели были отобраны 200 скважин с самым высоким предсказанным значением. Для каждой выборки были рассчитаны и сохранены предсказанная и фактическая операционные прибыли. Были рассчитаны средние значения операционной прибыли, интервалы, в которых находится реальные средние значения и риски убытков в процентах. Затем, путём сравнения данных по предсказанной и фактической прибыли был сделан вывод, что применение хорошо обученной модели позволяет:\n",
    "- 1) Более точно отобрать лучшие скважины в регионе\n",
    "- 2) Максимально точно спрогнозировать прибыль\n",
    "- 3) Минимализировать риск убытков\n",
    "\n",
    "После сравнения данных был сделан вывод, что для разработки скважин следует выбрать `1` регион, так прогнозируемая операционная прибыль по нему выше, чем по остальным регионам, риски убытков минимальны, а предсказания модели достаточно точны для дальнейшего её применения.\n",
    "\n",
    "Применение машинного обучения для прогнозирования объемов нефти в нефтяных скважинах может значительно повысить эффективность добычи нефти, что приведет к снижению затрат и увеличению прибыли компаний, работающих в этом секторе. Несмотря на то, что некоторые проблемы, такие как, например, потребность в высокоточных данных, сохраняются, преимущества этого подхода очевидны."
   ]
  }
 ],
 "metadata": {
  "ExecuteTimeLog": [
   {
    "duration": 58,
    "start_time": "2023-03-22T06:04:44.422Z"
   }
  ],
  "kernelspec": {
   "display_name": "Python 3 (ipykernel)",
   "language": "python",
   "name": "python3"
  },
  "language_info": {
   "codemirror_mode": {
    "name": "ipython",
    "version": 3
   },
   "file_extension": ".py",
   "mimetype": "text/x-python",
   "name": "python",
   "nbconvert_exporter": "python",
   "pygments_lexer": "ipython3",
   "version": "3.10.11"
  },
  "toc": {
   "base_numbering": 1,
   "nav_menu": {},
   "number_sections": true,
   "sideBar": true,
   "skip_h1_title": true,
   "title_cell": "Table of Contents",
   "title_sidebar": "Contents",
   "toc_cell": true,
   "toc_position": {
    "height": "calc(100% - 180px)",
    "left": "10px",
    "top": "150px",
    "width": "393.625px"
   },
   "toc_section_display": true,
   "toc_window_display": true
  }
 },
 "nbformat": 4,
 "nbformat_minor": 5
}

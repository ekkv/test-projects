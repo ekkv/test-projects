{
 "cells": [
  {
   "cell_type": "markdown",
   "id": "c514a488",
   "metadata": {
    "toc": true
   },
   "source": [
    "<h1>Table of Contents<span class=\"tocSkip\"></span></h1>\n",
    "<div class=\"toc\"><ul class=\"toc-item\"><li><span><a href=\"#Изучение-общей-информации-о-данных\" data-toc-modified-id=\"Изучение-общей-информации-о-данных-1\"><span class=\"toc-item-num\">1&nbsp;&nbsp;</span>Изучение общей информации о данных</a></span></li><li><span><a href=\"#Предобработка-данных\" data-toc-modified-id=\"Предобработка-данных-2\"><span class=\"toc-item-num\">2&nbsp;&nbsp;</span>Предобработка данных</a></span></li><li><span><a href=\"#Обучение-модели\" data-toc-modified-id=\"Обучение-модели-3\"><span class=\"toc-item-num\">3&nbsp;&nbsp;</span>Обучение модели</a></span><ul class=\"toc-item\"><li><span><a href=\"#LogisticRegression\" data-toc-modified-id=\"LogisticRegression-3.1\"><span class=\"toc-item-num\">3.1&nbsp;&nbsp;</span>LogisticRegression</a></span></li><li><span><a href=\"#RandomForestClassifier\" data-toc-modified-id=\"RandomForestClassifier-3.2\"><span class=\"toc-item-num\">3.2&nbsp;&nbsp;</span>RandomForestClassifier</a></span></li><li><span><a href=\"#LightGBM\" data-toc-modified-id=\"LightGBM-3.3\"><span class=\"toc-item-num\">3.3&nbsp;&nbsp;</span>LightGBM</a></span></li><li><span><a href=\"#Логистическая-регрессия-с-BERT\" data-toc-modified-id=\"Логистическая-регрессия-с-BERT-3.4\"><span class=\"toc-item-num\">3.4&nbsp;&nbsp;</span>Логистическая регрессия с BERT</a></span></li><li><span><a href=\"#Оптимизация-гиперпараметров-LightGBM\" data-toc-modified-id=\"Оптимизация-гиперпараметров-LightGBM-3.5\"><span class=\"toc-item-num\">3.5&nbsp;&nbsp;</span>Оптимизация гиперпараметров LightGBM</a></span></li><li><span><a href=\"#Дообучение-и-проверка-на-тестовой-выборке\" data-toc-modified-id=\"Дообучение-и-проверка-на-тестовой-выборке-3.6\"><span class=\"toc-item-num\">3.6&nbsp;&nbsp;</span>Дообучение и проверка на тестовой выборке</a></span></li><li><span><a href=\"#Сравнение-с-DummyClassifier\" data-toc-modified-id=\"Сравнение-с-DummyClassifier-3.7\"><span class=\"toc-item-num\">3.7&nbsp;&nbsp;</span>Сравнение с DummyClassifier</a></span></li></ul></li><li><span><a href=\"#Общий-вывод\" data-toc-modified-id=\"Общий-вывод-4\"><span class=\"toc-item-num\">4&nbsp;&nbsp;</span>Общий вывод</a></span></li></ul></div>"
   ]
  },
  {
   "cell_type": "markdown",
   "id": "886bb109",
   "metadata": {},
   "source": [
    "# Модель классификации токсичных комментариев для интернет-магазина"
   ]
  },
  {
   "cell_type": "markdown",
   "id": "3de286f7",
   "metadata": {},
   "source": [
    "Перед нами набор данных с разметкой о токсичности правок.\n",
    "\n",
    "Наша задача - построить модель, способную распознавать токсичность в правках и комментариях для последующей отправки таких сообщений на рассмотрение модераторам. Модель, способная классифицировать комментарии на позитивные и негативные, поможет сократить объемы работы модераторов и защитить аудиторию от нежелательного контента.\n",
    "\n",
    "Требование к модели - значение метрики качества `F1` не меньше 0.75. \n",
    "\n",
    "Исследование поделено на три основные части:\n",
    "\n",
    "- 1) Изучение общей информации о данных\n",
    "- 2) Предобработка данных\n",
    "- 2) Обучение модели:\n",
    "        - Выбор подходящих моделей\n",
    "        - Разделение данных на выборки\n",
    "        - Обучение и выбор лучшей модели\n",
    "        - Дообучение и тестирование\n",
    "        - Сравнение с DummyClassifier\n",
    "    \n",
    "- 3) Общий вывод по проделанной работе"
   ]
  },
  {
   "cell_type": "markdown",
   "id": "e29121dc",
   "metadata": {},
   "source": [
    "**Описание данных:**\n",
    "\n",
    "- `toxic` — целевой признак.\n",
    "- `text` - текст комментария"
   ]
  },
  {
   "cell_type": "markdown",
   "id": "716f760d",
   "metadata": {},
   "source": [
    "## Изучение общей информации о данных"
   ]
  },
  {
   "cell_type": "markdown",
   "id": "49c494ef",
   "metadata": {},
   "source": [
    "Импортируем модули."
   ]
  },
  {
   "cell_type": "code",
   "execution_count": 1,
   "id": "254743e0",
   "metadata": {
    "scrolled": true
   },
   "outputs": [
    {
     "name": "stdout",
     "output_type": "stream",
     "text": [
      "Collecting en-core-web-sm==3.5.0\n",
      "  Downloading https://github.com/explosion/spacy-models/releases/download/en_core_web_sm-3.5.0/en_core_web_sm-3.5.0-py3-none-any.whl (12.8 MB)\n",
      "                                              0.0/12.8 MB ? eta -:--:--\n",
      "                                              0.1/12.8 MB 1.7 MB/s eta 0:00:08\n",
      "                                              0.2/12.8 MB 3.0 MB/s eta 0:00:05\n",
      "     -                                        0.6/12.8 MB 4.3 MB/s eta 0:00:03\n",
      "     --                                       0.9/12.8 MB 5.0 MB/s eta 0:00:03\n",
      "     ---                                      1.2/12.8 MB 5.4 MB/s eta 0:00:03\n",
      "     ----                                     1.5/12.8 MB 5.6 MB/s eta 0:00:03\n",
      "     -----                                    1.8/12.8 MB 5.9 MB/s eta 0:00:02\n",
      "     ------                                   2.2/12.8 MB 6.0 MB/s eta 0:00:02\n",
      "     -------                                  2.4/12.8 MB 5.9 MB/s eta 0:00:02\n",
      "     -------                                  2.5/12.8 MB 5.5 MB/s eta 0:00:02\n",
      "     --------                                 2.7/12.8 MB 5.1 MB/s eta 0:00:02\n",
      "     ----------                               3.3/12.8 MB 5.8 MB/s eta 0:00:02\n",
      "     -----------                              3.6/12.8 MB 5.9 MB/s eta 0:00:02\n",
      "     ------------                             3.9/12.8 MB 5.9 MB/s eta 0:00:02\n",
      "     -------------                            4.2/12.8 MB 6.2 MB/s eta 0:00:02\n",
      "     --------------                           4.6/12.8 MB 6.1 MB/s eta 0:00:02\n",
      "     ---------------                          4.9/12.8 MB 6.2 MB/s eta 0:00:02\n",
      "     ----------------                         5.2/12.8 MB 6.2 MB/s eta 0:00:02\n",
      "     -----------------                        5.5/12.8 MB 6.3 MB/s eta 0:00:02\n",
      "     ------------------                       5.8/12.8 MB 6.3 MB/s eta 0:00:02\n",
      "     -------------------                      6.1/12.8 MB 6.3 MB/s eta 0:00:02\n",
      "     --------------------                     6.5/12.8 MB 6.4 MB/s eta 0:00:01\n",
      "     ---------------------                    6.8/12.8 MB 6.4 MB/s eta 0:00:01\n",
      "     ----------------------                   7.1/12.8 MB 6.4 MB/s eta 0:00:01\n",
      "     -----------------------                  7.4/12.8 MB 6.4 MB/s eta 0:00:01\n",
      "     ------------------------                 7.8/12.8 MB 6.4 MB/s eta 0:00:01\n",
      "     -------------------------                8.1/12.8 MB 6.5 MB/s eta 0:00:01\n",
      "     --------------------------               8.4/12.8 MB 6.5 MB/s eta 0:00:01\n",
      "     ---------------------------              8.7/12.8 MB 6.5 MB/s eta 0:00:01\n",
      "     ----------------------------             9.1/12.8 MB 6.5 MB/s eta 0:00:01\n",
      "     -----------------------------            9.4/12.8 MB 6.5 MB/s eta 0:00:01\n",
      "     ------------------------------           9.7/12.8 MB 6.5 MB/s eta 0:00:01\n",
      "     -------------------------------          10.0/12.8 MB 6.5 MB/s eta 0:00:01\n",
      "     --------------------------------         10.4/12.8 MB 6.7 MB/s eta 0:00:01\n",
      "     ---------------------------------        10.7/12.8 MB 6.8 MB/s eta 0:00:01\n",
      "     ----------------------------------       11.0/12.8 MB 6.7 MB/s eta 0:00:01\n",
      "     -----------------------------------      11.3/12.8 MB 6.7 MB/s eta 0:00:01\n",
      "     ------------------------------------     11.7/12.8 MB 6.8 MB/s eta 0:00:01\n",
      "     -------------------------------------    12.0/12.8 MB 6.8 MB/s eta 0:00:01\n",
      "     --------------------------------------   12.4/12.8 MB 6.8 MB/s eta 0:00:01\n",
      "     ---------------------------------------  12.7/12.8 MB 7.0 MB/s eta 0:00:01\n",
      "     ---------------------------------------- 12.8/12.8 MB 7.0 MB/s eta 0:00:00\n",
      "Requirement already satisfied: spacy<3.6.0,>=3.5.0 in c:\\users\\dearm\\anaconda3\\lib\\site-packages (from en-core-web-sm==3.5.0) (3.5.3)\n",
      "Requirement already satisfied: spacy-legacy<3.1.0,>=3.0.11 in c:\\users\\dearm\\anaconda3\\lib\\site-packages (from spacy<3.6.0,>=3.5.0->en-core-web-sm==3.5.0) (3.0.12)\n",
      "Requirement already satisfied: spacy-loggers<2.0.0,>=1.0.0 in c:\\users\\dearm\\anaconda3\\lib\\site-packages (from spacy<3.6.0,>=3.5.0->en-core-web-sm==3.5.0) (1.0.4)\n",
      "Requirement already satisfied: murmurhash<1.1.0,>=0.28.0 in c:\\users\\dearm\\anaconda3\\lib\\site-packages (from spacy<3.6.0,>=3.5.0->en-core-web-sm==3.5.0) (1.0.9)\n",
      "Requirement already satisfied: cymem<2.1.0,>=2.0.2 in c:\\users\\dearm\\anaconda3\\lib\\site-packages (from spacy<3.6.0,>=3.5.0->en-core-web-sm==3.5.0) (2.0.7)\n",
      "Requirement already satisfied: preshed<3.1.0,>=3.0.2 in c:\\users\\dearm\\anaconda3\\lib\\site-packages (from spacy<3.6.0,>=3.5.0->en-core-web-sm==3.5.0) (3.0.8)\n",
      "Requirement already satisfied: thinc<8.2.0,>=8.1.8 in c:\\users\\dearm\\anaconda3\\lib\\site-packages (from spacy<3.6.0,>=3.5.0->en-core-web-sm==3.5.0) (8.1.10)\n",
      "Requirement already satisfied: wasabi<1.2.0,>=0.9.1 in c:\\users\\dearm\\anaconda3\\lib\\site-packages (from spacy<3.6.0,>=3.5.0->en-core-web-sm==3.5.0) (1.1.1)\n",
      "Requirement already satisfied: srsly<3.0.0,>=2.4.3 in c:\\users\\dearm\\anaconda3\\lib\\site-packages (from spacy<3.6.0,>=3.5.0->en-core-web-sm==3.5.0) (2.4.6)\n",
      "Requirement already satisfied: catalogue<2.1.0,>=2.0.6 in c:\\users\\dearm\\anaconda3\\lib\\site-packages (from spacy<3.6.0,>=3.5.0->en-core-web-sm==3.5.0) (2.0.8)\n",
      "Requirement already satisfied: typer<0.8.0,>=0.3.0 in c:\\users\\dearm\\anaconda3\\lib\\site-packages (from spacy<3.6.0,>=3.5.0->en-core-web-sm==3.5.0) (0.7.0)\n",
      "Requirement already satisfied: pathy>=0.10.0 in c:\\users\\dearm\\anaconda3\\lib\\site-packages (from spacy<3.6.0,>=3.5.0->en-core-web-sm==3.5.0) (0.10.1)\n",
      "Requirement already satisfied: smart-open<7.0.0,>=5.2.1 in c:\\users\\dearm\\anaconda3\\lib\\site-packages (from spacy<3.6.0,>=3.5.0->en-core-web-sm==3.5.0) (6.3.0)\n",
      "Requirement already satisfied: tqdm<5.0.0,>=4.38.0 in c:\\users\\dearm\\anaconda3\\lib\\site-packages (from spacy<3.6.0,>=3.5.0->en-core-web-sm==3.5.0) (4.65.0)\n",
      "Requirement already satisfied: numpy>=1.15.0 in c:\\users\\dearm\\anaconda3\\lib\\site-packages (from spacy<3.6.0,>=3.5.0->en-core-web-sm==3.5.0) (1.23.5)\n",
      "Requirement already satisfied: requests<3.0.0,>=2.13.0 in c:\\users\\dearm\\anaconda3\\lib\\site-packages (from spacy<3.6.0,>=3.5.0->en-core-web-sm==3.5.0) (2.29.0)\n",
      "Requirement already satisfied: pydantic!=1.8,!=1.8.1,<1.11.0,>=1.7.4 in c:\\users\\dearm\\anaconda3\\lib\\site-packages (from spacy<3.6.0,>=3.5.0->en-core-web-sm==3.5.0) (1.10.8)\n",
      "Requirement already satisfied: jinja2 in c:\\users\\dearm\\anaconda3\\lib\\site-packages (from spacy<3.6.0,>=3.5.0->en-core-web-sm==3.5.0) (3.1.2)\n",
      "Requirement already satisfied: setuptools in c:\\users\\dearm\\anaconda3\\lib\\site-packages (from spacy<3.6.0,>=3.5.0->en-core-web-sm==3.5.0) (67.7.2)\n",
      "Requirement already satisfied: packaging>=20.0 in c:\\users\\dearm\\anaconda3\\lib\\site-packages (from spacy<3.6.0,>=3.5.0->en-core-web-sm==3.5.0) (23.1)\n",
      "Requirement already satisfied: langcodes<4.0.0,>=3.2.0 in c:\\users\\dearm\\anaconda3\\lib\\site-packages (from spacy<3.6.0,>=3.5.0->en-core-web-sm==3.5.0) (3.3.0)\n",
      "Requirement already satisfied: typing-extensions>=4.2.0 in c:\\users\\dearm\\anaconda3\\lib\\site-packages (from pydantic!=1.8,!=1.8.1,<1.11.0,>=1.7.4->spacy<3.6.0,>=3.5.0->en-core-web-sm==3.5.0) (4.5.0)\n",
      "Requirement already satisfied: charset-normalizer<4,>=2 in c:\\users\\dearm\\anaconda3\\lib\\site-packages (from requests<3.0.0,>=2.13.0->spacy<3.6.0,>=3.5.0->en-core-web-sm==3.5.0) (3.1.0)\n",
      "Requirement already satisfied: idna<4,>=2.5 in c:\\users\\dearm\\anaconda3\\lib\\site-packages (from requests<3.0.0,>=2.13.0->spacy<3.6.0,>=3.5.0->en-core-web-sm==3.5.0) (3.4)\n",
      "Requirement already satisfied: urllib3<1.27,>=1.21.1 in c:\\users\\dearm\\anaconda3\\lib\\site-packages (from requests<3.0.0,>=2.13.0->spacy<3.6.0,>=3.5.0->en-core-web-sm==3.5.0) (1.26.15)\n",
      "Requirement already satisfied: certifi>=2017.4.17 in c:\\users\\dearm\\anaconda3\\lib\\site-packages (from requests<3.0.0,>=2.13.0->spacy<3.6.0,>=3.5.0->en-core-web-sm==3.5.0) (2023.5.7)\n",
      "Requirement already satisfied: blis<0.8.0,>=0.7.8 in c:\\users\\dearm\\anaconda3\\lib\\site-packages (from thinc<8.2.0,>=8.1.8->spacy<3.6.0,>=3.5.0->en-core-web-sm==3.5.0) (0.7.9)\n",
      "Requirement already satisfied: confection<1.0.0,>=0.0.1 in c:\\users\\dearm\\anaconda3\\lib\\site-packages (from thinc<8.2.0,>=8.1.8->spacy<3.6.0,>=3.5.0->en-core-web-sm==3.5.0) (0.0.4)\n",
      "Requirement already satisfied: colorama in c:\\users\\dearm\\anaconda3\\lib\\site-packages (from tqdm<5.0.0,>=4.38.0->spacy<3.6.0,>=3.5.0->en-core-web-sm==3.5.0) (0.4.6)\n",
      "Requirement already satisfied: click<9.0.0,>=7.1.1 in c:\\users\\dearm\\anaconda3\\lib\\site-packages (from typer<0.8.0,>=0.3.0->spacy<3.6.0,>=3.5.0->en-core-web-sm==3.5.0) (8.1.3)\n",
      "Requirement already satisfied: MarkupSafe>=2.0 in c:\\users\\dearm\\anaconda3\\lib\\site-packages (from jinja2->spacy<3.6.0,>=3.5.0->en-core-web-sm==3.5.0) (2.1.2)\n",
      "\u001b[38;5;3m[!] As of spaCy v3.0, shortcuts like 'en' are deprecated. Please use\n",
      "the full pipeline package name 'en_core_web_sm' instead.\u001b[0m\n",
      "\u001b[38;5;2m[+] Download and installation successful\u001b[0m\n",
      "You can now load the package via spacy.load('en_core_web_sm')\n"
     ]
    }
   ],
   "source": [
    "import warnings\n",
    "import re\n",
    "\n",
    "import pandas as pd\n",
    "import numpy as np\n",
    "import matplotlib.pyplot as plt\n",
    "import spacy\n",
    "from tqdm.notebook import tqdm\n",
    "\n",
    "from sklearn.feature_extraction.text import CountVectorizer\n",
    "from sklearn.model_selection import train_test_split\n",
    "from sklearn.model_selection import GridSearchCV\n",
    "\n",
    "from sklearn.linear_model import LogisticRegression\n",
    "from sklearn.ensemble import RandomForestClassifier\n",
    "from lightgbm import LGBMClassifier\n",
    "import torch\n",
    "import transformers\n",
    "\n",
    "from sklearn.metrics import f1_score\n",
    "from sklearn.dummy import DummyClassifier\n",
    "\n",
    "# скрыть предупреждения\n",
    "warnings.simplefilter('ignore')\n",
    "# загрузка языкового пакета для spacy\n",
    "!spacy download en\n",
    "spacy.load('en_core_web_sm')\n",
    "# RandomState\n",
    "state = np.random.RandomState(12345)"
   ]
  },
  {
   "cell_type": "markdown",
   "id": "0a596e24",
   "metadata": {},
   "source": [
    "Импортируем данные."
   ]
  },
  {
   "cell_type": "code",
   "execution_count": 2,
   "id": "e6e2f3ca",
   "metadata": {},
   "outputs": [],
   "source": [
    "data = pd.read_csv('datasets/toxic_comments.csv')"
   ]
  },
  {
   "cell_type": "markdown",
   "id": "92219006",
   "metadata": {},
   "source": [
    "Выведем первые 5 строк датафрейма и основную информацию о нём."
   ]
  },
  {
   "cell_type": "code",
   "execution_count": 3,
   "id": "44b518cd",
   "metadata": {},
   "outputs": [
    {
     "data": {
      "text/html": [
       "<div>\n",
       "<style scoped>\n",
       "    .dataframe tbody tr th:only-of-type {\n",
       "        vertical-align: middle;\n",
       "    }\n",
       "\n",
       "    .dataframe tbody tr th {\n",
       "        vertical-align: top;\n",
       "    }\n",
       "\n",
       "    .dataframe thead th {\n",
       "        text-align: right;\n",
       "    }\n",
       "</style>\n",
       "<table border=\"1\" class=\"dataframe\">\n",
       "  <thead>\n",
       "    <tr style=\"text-align: right;\">\n",
       "      <th></th>\n",
       "      <th>Unnamed: 0</th>\n",
       "      <th>text</th>\n",
       "      <th>toxic</th>\n",
       "    </tr>\n",
       "  </thead>\n",
       "  <tbody>\n",
       "    <tr>\n",
       "      <th>0</th>\n",
       "      <td>0</td>\n",
       "      <td>Explanation\\nWhy the edits made under my usern...</td>\n",
       "      <td>0</td>\n",
       "    </tr>\n",
       "    <tr>\n",
       "      <th>1</th>\n",
       "      <td>1</td>\n",
       "      <td>D'aww! He matches this background colour I'm s...</td>\n",
       "      <td>0</td>\n",
       "    </tr>\n",
       "    <tr>\n",
       "      <th>2</th>\n",
       "      <td>2</td>\n",
       "      <td>Hey man, I'm really not trying to edit war. It...</td>\n",
       "      <td>0</td>\n",
       "    </tr>\n",
       "    <tr>\n",
       "      <th>3</th>\n",
       "      <td>3</td>\n",
       "      <td>\"\\nMore\\nI can't make any real suggestions on ...</td>\n",
       "      <td>0</td>\n",
       "    </tr>\n",
       "    <tr>\n",
       "      <th>4</th>\n",
       "      <td>4</td>\n",
       "      <td>You, sir, are my hero. Any chance you remember...</td>\n",
       "      <td>0</td>\n",
       "    </tr>\n",
       "  </tbody>\n",
       "</table>\n",
       "</div>"
      ],
      "text/plain": [
       "   Unnamed: 0                                               text  toxic\n",
       "0           0  Explanation\\nWhy the edits made under my usern...      0\n",
       "1           1  D'aww! He matches this background colour I'm s...      0\n",
       "2           2  Hey man, I'm really not trying to edit war. It...      0\n",
       "3           3  \"\\nMore\\nI can't make any real suggestions on ...      0\n",
       "4           4  You, sir, are my hero. Any chance you remember...      0"
      ]
     },
     "execution_count": 3,
     "metadata": {},
     "output_type": "execute_result"
    }
   ],
   "source": [
    "data.head(5)"
   ]
  },
  {
   "cell_type": "code",
   "execution_count": 4,
   "id": "b0abce5c",
   "metadata": {
    "scrolled": true
   },
   "outputs": [
    {
     "name": "stdout",
     "output_type": "stream",
     "text": [
      "<class 'pandas.core.frame.DataFrame'>\n",
      "RangeIndex: 159292 entries, 0 to 159291\n",
      "Data columns (total 3 columns):\n",
      " #   Column      Non-Null Count   Dtype \n",
      "---  ------      --------------   ----- \n",
      " 0   Unnamed: 0  159292 non-null  int64 \n",
      " 1   text        159292 non-null  object\n",
      " 2   toxic       159292 non-null  int64 \n",
      "dtypes: int64(2), object(1)\n",
      "memory usage: 3.6+ MB\n"
     ]
    }
   ],
   "source": [
    "data.info()"
   ]
  },
  {
   "cell_type": "markdown",
   "id": "99b36509",
   "metadata": {},
   "source": [
    "<font color='blue'><b>Комментарий ревьюера: </b></font> ✔️\\\n",
    "<font color='green'>Данные загружены корректно, первичный осмотр проведен.</font>"
   ]
  },
  {
   "cell_type": "code",
   "execution_count": 5,
   "id": "e8194590",
   "metadata": {},
   "outputs": [
    {
     "data": {
      "text/plain": [
       "<Axes: >"
      ]
     },
     "execution_count": 5,
     "metadata": {},
     "output_type": "execute_result"
    },
    {
     "data": {
      "image/png": "[encoded data removed]",
      "text/plain": [
       "<Figure size 640x480 with 1 Axes>"
      ]
     },
     "metadata": {},
     "output_type": "display_data"
    }
   ],
   "source": [
    "data['toxic'].hist()"
   ]
  },
  {
   "cell_type": "markdown",
   "id": "7345201f",
   "metadata": {},
   "source": [
    "**Вывод:** Целостность данных сохранена, наблюдается явный дисбаланс классов целевого признака в пользу позитивных комментариев."
   ]
  },
  {
   "cell_type": "markdown",
   "id": "2eae6d15",
   "metadata": {},
   "source": [
    "## Предобработка данных"
   ]
  },
  {
   "cell_type": "markdown",
   "id": "ffcb52f1",
   "metadata": {},
   "source": [
    "Удалим из данных пустой столбец `Unnamed: 0`"
   ]
  },
  {
   "cell_type": "code",
   "execution_count": 6,
   "id": "4e2db1e9",
   "metadata": {},
   "outputs": [],
   "source": [
    "data = data.drop('Unnamed: 0', axis=1)"
   ]
  },
  {
   "cell_type": "markdown",
   "id": "e6b65d3c",
   "metadata": {},
   "source": [
    "Подготовим текст для обучения логистической регрессии: очистим текст от символов и лемматизируем слова - этот шаг поможет сократить количество уникальных слов и, как следствие, улучшит качество предсказаний."
   ]
  },
  {
   "cell_type": "code",
   "execution_count": 7,
   "id": "fef69b9f",
   "metadata": {},
   "outputs": [
    {
     "data": {
      "application/vnd.jupyter.widget-view+json": {
       "model_id": "f2982bf032984e52964cce228af94089",
       "version_major": 2,
       "version_minor": 0
      },
      "text/plain": [
       "  0%|          | 0/159292 [00:00<?, ?it/s]"
      ]
     },
     "metadata": {},
     "output_type": "display_data"
    }
   ],
   "source": [
    "def clean_text(text):\n",
    "    text = re.sub(r'[^a-zA-Z\\'\\ ]', ' ', text)\n",
    "    text = re.sub(r'[^a-zA-Z ]', '', text)\n",
    "    text = text.split()\n",
    "    text = \" \".join(text)\n",
    "    doc = nlp(text)\n",
    "    text = \" \".join([token.lemma_ for token in doc])\n",
    "    return text\n",
    "\n",
    "tqdm.pandas()\n",
    "nlp = spacy.load('en_core_web_sm', disable=['parser', 'ner'])\n",
    "data['text'] = data['text'].progress_apply(clean_text)"
   ]
  },
  {
   "cell_type": "code",
   "execution_count": 8,
   "id": "b50da118",
   "metadata": {},
   "outputs": [
    {
     "data": {
      "text/html": [
       "<div>\n",
       "<style scoped>\n",
       "    .dataframe tbody tr th:only-of-type {\n",
       "        vertical-align: middle;\n",
       "    }\n",
       "\n",
       "    .dataframe tbody tr th {\n",
       "        vertical-align: top;\n",
       "    }\n",
       "\n",
       "    .dataframe thead th {\n",
       "        text-align: right;\n",
       "    }\n",
       "</style>\n",
       "<table border=\"1\" class=\"dataframe\">\n",
       "  <thead>\n",
       "    <tr style=\"text-align: right;\">\n",
       "      <th></th>\n",
       "      <th>text</th>\n",
       "      <th>toxic</th>\n",
       "    </tr>\n",
       "  </thead>\n",
       "  <tbody>\n",
       "    <tr>\n",
       "      <th>0</th>\n",
       "      <td>Explanation why the edit make under my usernam...</td>\n",
       "      <td>0</td>\n",
       "    </tr>\n",
       "    <tr>\n",
       "      <th>1</th>\n",
       "      <td>Daww he match this background colour I m seemi...</td>\n",
       "      <td>0</td>\n",
       "    </tr>\n",
       "    <tr>\n",
       "      <th>2</th>\n",
       "      <td>hey man I m really not try to edit war its jus...</td>\n",
       "      <td>0</td>\n",
       "    </tr>\n",
       "    <tr>\n",
       "      <th>3</th>\n",
       "      <td>More I can not make any real suggestion on imp...</td>\n",
       "      <td>0</td>\n",
       "    </tr>\n",
       "    <tr>\n",
       "      <th>4</th>\n",
       "      <td>you sir be my hero any chance you remember wha...</td>\n",
       "      <td>0</td>\n",
       "    </tr>\n",
       "  </tbody>\n",
       "</table>\n",
       "</div>"
      ],
      "text/plain": [
       "                                                text  toxic\n",
       "0  Explanation why the edit make under my usernam...      0\n",
       "1  Daww he match this background colour I m seemi...      0\n",
       "2  hey man I m really not try to edit war its jus...      0\n",
       "3  More I can not make any real suggestion on imp...      0\n",
       "4  you sir be my hero any chance you remember wha...      0"
      ]
     },
     "execution_count": 8,
     "metadata": {},
     "output_type": "execute_result"
    }
   ],
   "source": [
    "data.head()"
   ]
  },
  {
   "cell_type": "markdown",
   "id": "552ad346",
   "metadata": {},
   "source": [
    "Вывод: Данные очищены от лишних символов и лемматизированы."
   ]
  },
  {
   "cell_type": "markdown",
   "id": "ca76b90d",
   "metadata": {},
   "source": [
    "## Обучение модели"
   ]
  },
  {
   "cell_type": "markdown",
   "id": "0ec4f938",
   "metadata": {},
   "source": [
    "Перед нами стоит задача классифицкации. Для сравнения были выбраны LogisticRegression, LightGBM и нейронная модель BERT. Модели требуют дополнительной подготовки данных. Выделим из данных предиктор и целевой признак.\n"
   ]
  },
  {
   "cell_type": "code",
   "execution_count": 9,
   "id": "b87443b6",
   "metadata": {},
   "outputs": [],
   "source": [
    "features = data['text']\n",
    "y = data['toxic']"
   ]
  },
  {
   "cell_type": "markdown",
   "id": "48ce7f42",
   "metadata": {},
   "source": [
    "Так как тестовой выборки не предусмотрено, разделим имеющиеся данные на 3 части: Тренировочную (60% данных), валидационную (20%) и тестовую (20%). Параметр stratify позволит нам добиться равного распледеления целевого признака по всем выборкам."
   ]
  },
  {
   "cell_type": "code",
   "execution_count": 10,
   "id": "eeb6c1ed",
   "metadata": {},
   "outputs": [],
   "source": [
    "def split_data(X_set, y_set, t_size=0.6, test=True):\n",
    "    \n",
    "    X_tr, X_temp, y_tr, y_temp = \\\n",
    "    train_test_split(X_set, y_set,\n",
    "                     train_size=t_size, \n",
    "                     stratify=y_set,\n",
    "                     random_state=state)\n",
    "    \n",
    "    if test:\n",
    "        X_val, X_t, y_val, y_t = \\\n",
    "        train_test_split(X_temp, y_temp,\n",
    "                         test_size=0.5,\n",
    "                         stratify=y_temp,\n",
    "                         random_state=state)\n",
    "        return X_tr, X_val, X_t, y_tr, y_val, y_t\n",
    "    else:\n",
    "        return X_tr, X_temp, y_tr, y_temp\n",
    "\n",
    "X_train, X_valid, X_test, y_train, y_valid, y_test = split_data(features, y)"
   ]
  },
  {
   "cell_type": "markdown",
   "id": "3bd0dd0d",
   "metadata": {},
   "source": [
    "Переведём предиктор в векторы (их будем использовать как предиктор для регрессии, леса и градиентного бустинга)"
   ]
  },
  {
   "cell_type": "code",
   "execution_count": 11,
   "id": "e73ca1b5",
   "metadata": {},
   "outputs": [],
   "source": [
    "cv = CountVectorizer(dtype=np.float32).fit(X_train)\n",
    "\n",
    "X_train_cv = cv.transform(X_train)\n",
    "X_valid_cv = cv.transform(X_valid)\n",
    "X_test_cv = cv.transform(X_test)"
   ]
  },
  {
   "cell_type": "markdown",
   "id": "719b4a74",
   "metadata": {},
   "source": [
    "### LogisticRegression"
   ]
  },
  {
   "cell_type": "markdown",
   "id": "dc731c90",
   "metadata": {},
   "source": [
    "Обучим логистическую регрессию (гиперпараметр `class_weight='balanced'` поможет сгладить неравенство целевого признака)."
   ]
  },
  {
   "cell_type": "code",
   "execution_count": 12,
   "id": "5123cd2c",
   "metadata": {
    "scrolled": true
   },
   "outputs": [
    {
     "name": "stdout",
     "output_type": "stream",
     "text": [
      "Метрика F1 = 0.7520178124130252\n"
     ]
    }
   ],
   "source": [
    "def f1_pred(X, y):\n",
    "    y_pred = model.predict(X)\n",
    "    print(f'Метрика F1 =', f1_score(y_pred, y))\n",
    "\n",
    "model = LogisticRegression(random_state=state, class_weight='balanced').fit(X_train_cv, y_train)\n",
    "f1_pred(X_valid_cv, y_valid)"
   ]
  },
  {
   "cell_type": "markdown",
   "id": "04d3b5dd",
   "metadata": {},
   "source": [
    "Модель LogisticRegression едва удовлетворяет условию задачи."
   ]
  },
  {
   "cell_type": "markdown",
   "id": "068a93cc",
   "metadata": {},
   "source": [
    "### RandomForestClassifier"
   ]
  },
  {
   "cell_type": "markdown",
   "id": "baf00a61",
   "metadata": {},
   "source": [
    "Обучим базовый случайный лес."
   ]
  },
  {
   "cell_type": "code",
   "execution_count": 13,
   "id": "6758fd7a",
   "metadata": {},
   "outputs": [
    {
     "name": "stdout",
     "output_type": "stream",
     "text": [
      "Метрика F1 = 0.567437800087298\n"
     ]
    }
   ],
   "source": [
    "model = RandomForestClassifier(random_state=state).fit(X_train_cv, y_train)\n",
    "f1_pred(X_valid_cv, y_valid)"
   ]
  },
  {
   "cell_type": "markdown",
   "id": "e9dc2e8a",
   "metadata": {},
   "source": [
    "Случайный лес не удовлетворяет условию задачи."
   ]
  },
  {
   "cell_type": "markdown",
   "id": "1299bab9",
   "metadata": {},
   "source": [
    "### LightGBM"
   ]
  },
  {
   "cell_type": "markdown",
   "id": "dda09f96",
   "metadata": {},
   "source": [
    "Обучим базовый LGBMClassifier."
   ]
  },
  {
   "cell_type": "code",
   "execution_count": 14,
   "id": "c1593aa4",
   "metadata": {},
   "outputs": [
    {
     "name": "stdout",
     "output_type": "stream",
     "text": [
      "Метрика F1 = 0.7552346570397113\n"
     ]
    }
   ],
   "source": [
    "model = LGBMClassifier(random_state=state).fit(X_train_cv, y_train)\n",
    "f1_pred(X_valid_cv, y_valid)"
   ]
  },
  {
   "cell_type": "markdown",
   "id": "faa0b7b6",
   "metadata": {},
   "source": [
    "LightGBM удовлетворяет условию поставленной задачи."
   ]
  },
  {
   "cell_type": "markdown",
   "id": "5cbfd793",
   "metadata": {},
   "source": [
    "### Логистическая регрессия с BERT"
   ]
  },
  {
   "cell_type": "markdown",
   "id": "5b616d24",
   "metadata": {},
   "source": [
    "Загрузим модель и конфигурацию."
   ]
  },
  {
   "cell_type": "code",
   "execution_count": 15,
   "id": "b32c7b58-d5f2-470c-9c31-54d0db1f66b2",
   "metadata": {
    "scrolled": false
   },
   "outputs": [
    {
     "name": "stderr",
     "output_type": "stream",
     "text": [
      "Some weights of the model checkpoint at unitary/toxic-bert were not used when initializing BertModel: ['classifier.bias', 'classifier.weight']\n",
      "- This IS expected if you are initializing BertModel from the checkpoint of a model trained on another task or with another architecture (e.g. initializing a BertForSequenceClassification model from a BertForPreTraining model).\n",
      "- This IS NOT expected if you are initializing BertModel from the checkpoint of a model that you expect to be exactly identical (initializing a BertForSequenceClassification model from a BertForSequenceClassification model).\n"
     ]
    }
   ],
   "source": [
    "configuration = transformers.BertConfig.from_pretrained(\n",
    "    'unitary/toxic-bert')\n",
    "\n",
    "model = transformers.BertModel.from_pretrained(\n",
    "    'unitary/toxic-bert', configuration)"
   ]
  },
  {
   "cell_type": "markdown",
   "id": "af25abe8",
   "metadata": {},
   "source": [
    "Так как работа с BERT очень времязатратна, возьмём из данных только 5000 строк и токенизируем их."
   ]
  },
  {
   "cell_type": "code",
   "execution_count": 17,
   "id": "870d2cdd-fa17-46f0-82ee-4da68a36bee9",
   "metadata": {},
   "outputs": [
    {
     "data": {
      "application/vnd.jupyter.widget-view+json": {
       "model_id": "d79ef876b32e4a54bfddab8609bd196d",
       "version_major": 2,
       "version_minor": 0
      },
      "text/plain": [
       "  0%|          | 0/5000 [00:00<?, ?it/s]"
      ]
     },
     "metadata": {},
     "output_type": "display_data"
    }
   ],
   "source": [
    "sample_n = 5000\n",
    "\n",
    "temp = data.sample(sample_n, random_state=state)\n",
    "features_bert = temp['text']\n",
    "target_bert = temp['toxic']\n",
    "\n",
    "tokenizer = transformers.BertTokenizer.from_pretrained('unitary/toxic-bert')\n",
    "\n",
    "tokenized = features_bert.progress_apply(\n",
    "    lambda x: tokenizer.encode(\n",
    "        x,\n",
    "        add_special_tokens=True,\n",
    "        truncation=True,\n",
    "        max_length=512\n",
    "    )\n",
    ")\n",
    "\n",
    "max_len = 0\n",
    "for i in tokenized.values:\n",
    "    if len(i) > max_len:\n",
    "        max_len = len(i)\n",
    "\n",
    "padded = np.array([i + [0]*(max_len - len(i)) for i in tokenized.values])\n",
    "attention_mask = np.where(padded != 0, 1, 0)"
   ]
  },
  {
   "cell_type": "code",
   "execution_count": 18,
   "id": "0a89e5ec-7697-4386-98a2-28393bd96693",
   "metadata": {},
   "outputs": [
    {
     "data": {
      "application/vnd.jupyter.widget-view+json": {
       "model_id": "88760484134b4b07bcfcb98b2faf9ffc",
       "version_major": 2,
       "version_minor": 0
      },
      "text/plain": [
       "  0%|          | 0/500 [00:00<?, ?it/s]"
      ]
     },
     "metadata": {},
     "output_type": "display_data"
    }
   ],
   "source": [
    "batch_size = 10\n",
    "embeddings = []\n",
    "\n",
    "for i in tqdm(range(padded.shape[0] // batch_size)):\n",
    "        batch = torch.LongTensor(padded[batch_size*i:batch_size*(i+1)]) \n",
    "        attention_mask_batch = torch.LongTensor(attention_mask[batch_size*i:batch_size*(i+1)])\n",
    "        \n",
    "        with torch.no_grad():\n",
    "            batch_embeddings = model(batch, attention_mask=attention_mask_batch)\n",
    "        \n",
    "        embeddings.append(batch_embeddings[0][:,0,:].numpy())\n",
    "features_bert = np.concatenate(embeddings)"
   ]
  },
  {
   "cell_type": "markdown",
   "id": "46cf0d37",
   "metadata": {},
   "source": [
    "Разделим данные на выборки."
   ]
  },
  {
   "cell_type": "code",
   "execution_count": 19,
   "id": "88f9b229-44f5-407d-9e14-9b715aa4d3e1",
   "metadata": {},
   "outputs": [],
   "source": [
    "X_train_bert, X_valid_bert, X_test_bert, y_train_bert, y_valid_bert, y_test_bert =\\\n",
    "split_data(features_bert, target_bert, t_size=0.6)"
   ]
  },
  {
   "cell_type": "markdown",
   "id": "4386efe7",
   "metadata": {},
   "source": [
    "Обучим модель и выведем значение F1."
   ]
  },
  {
   "cell_type": "code",
   "execution_count": 20,
   "id": "650e856c",
   "metadata": {},
   "outputs": [
    {
     "name": "stdout",
     "output_type": "stream",
     "text": [
      "Метрика F1 = 0.8755760368663594\n"
     ]
    }
   ],
   "source": [
    "model = LogisticRegression(random_state=state, class_weight='balanced').fit(X_train_bert, y_train_bert)\n",
    "f1_pred(X_valid_bert, y_valid_bert)"
   ]
  },
  {
   "cell_type": "markdown",
   "id": "6c783514",
   "metadata": {},
   "source": [
    "Даже с небольшим объемом обработанных данных модель BERT показывает очень хороший результат, но процесс подготовки и обработки данных крайне продолжительный и ресурсозатратный."
   ]
  },
  {
   "cell_type": "markdown",
   "id": "60af7724",
   "metadata": {},
   "source": [
    "### Оптимизация гиперпараметров LightGBM"
   ]
  },
  {
   "cell_type": "markdown",
   "id": "1dc88cc2",
   "metadata": {},
   "source": [
    " Подберём оптимальные гиперпараметры."
   ]
  },
  {
   "cell_type": "code",
   "execution_count": 21,
   "id": "2df59d8f",
   "metadata": {},
   "outputs": [
    {
     "name": "stdout",
     "output_type": "stream",
     "text": [
      "LGBMClassifier(max_depth=90, n_estimators=200, num_leaves=128,\n",
      "               random_state=RandomState(MT19937) at 0x2C00053DA40)\n",
      "Метрика F1 = 0.7830131415838885\n"
     ]
    }
   ],
   "source": [
    "param_grid = {\n",
    "    'boosting_type': ['gbdt', 'goss'],\n",
    "    'n_estimators': [100, 150, 200],\n",
    "    'max_depth': [80, 90, 100],\n",
    "    'num_leaves': [32, 64, 128]\n",
    "}\n",
    "\n",
    "model = LGBMClassifier(random_state=state)\n",
    "\n",
    "gs = GridSearchCV(estimator=model,\n",
    "                  param_grid=param_grid,\n",
    "                  cv=3,\n",
    "                  n_jobs=-1,\n",
    "                  scoring='f1')\n",
    "gs.fit(X_train_cv, y_train)\n",
    "\n",
    "best_params = gs.best_estimator_\n",
    "print(best_params)\n",
    "print(f'Метрика F1 =', gs.best_score_)"
   ]
  },
  {
   "cell_type": "markdown",
   "id": "03bd663d",
   "metadata": {},
   "source": [
    "### Дообучение и проверка на тестовой выборке"
   ]
  },
  {
   "cell_type": "markdown",
   "id": "1807d0b9",
   "metadata": {},
   "source": [
    "Проверим метрику F1 на тестовых данных."
   ]
  },
  {
   "cell_type": "code",
   "execution_count": 22,
   "id": "af3793fa",
   "metadata": {},
   "outputs": [
    {
     "name": "stdout",
     "output_type": "stream",
     "text": [
      "Метрика F1 = 0.7797364367619374\n"
     ]
    }
   ],
   "source": [
    "params = {\n",
    "    'boosting_type':'goss',\n",
    "    'max_depth':90, \n",
    "    'n_estimators':200, \n",
    "    'n_jobs':-1, \n",
    "    'num_leaves':128\n",
    "}\n",
    "\n",
    "model = LGBMClassifier(random_state=state, **params).fit(X_train_cv, y_train)\n",
    "f1_pred(X_test_cv, y_test)"
   ]
  },
  {
   "cell_type": "markdown",
   "id": "c6d09f57",
   "metadata": {},
   "source": [
    "### Сравнение с DummyClassifier"
   ]
  },
  {
   "cell_type": "markdown",
   "id": "ece85963",
   "metadata": {},
   "source": [
    "Сравним полученную метрику F1 с метрикой DummyClassifier."
   ]
  },
  {
   "cell_type": "code",
   "execution_count": 23,
   "id": "4d6341c2-3593-4887-b971-849c6217154d",
   "metadata": {},
   "outputs": [
    {
     "name": "stdout",
     "output_type": "stream",
     "text": [
      "Метрика F1 = 0.18446546614998857\n"
     ]
    }
   ],
   "source": [
    "model = DummyClassifier(strategy='constant', constant=1, random_state=state).fit(X_train_cv, y_train)\n",
    "f1_pred(X_test_cv, y_test)"
   ]
  },
  {
   "cell_type": "markdown",
   "id": "3cf777ea",
   "metadata": {},
   "source": [
    "Модель справляется с задачей, её значение F1 значительно превосходит значение метрики для модели, предсказывающей случайно."
   ]
  },
  {
   "cell_type": "markdown",
   "id": "fb154874",
   "metadata": {},
   "source": [
    "## Общий вывод"
   ]
  },
  {
   "cell_type": "markdown",
   "id": "cae2da72",
   "metadata": {},
   "source": [
    "Применение машинного обучения для обработки текстовых данных имеет ряд преимуществ:\n",
    "\n",
    "1) Эффективность: автоматизированная система, способна обрабатывать огромные объемы контента в режиме реального времени. Алгоритмы машинного обучения могут быстро анализировать текст, чтобы определить наличие нежелательного контента, такого как спам, оскорбления, насилие или незаконные материалы.\n",
    "\n",
    "2) Снижение нагрузки на модераторов: автоматическая фильтрация нежелательного контента помогает снизить нагрузку на модераторов, которые ранее были ответственны за ручную проверку и удаление такого контента. Автоматизированная система может предварительно отсеять большую часть нежелательного контента, оставляя модераторам более легкую задачу в ручном режиме проверить и удалить оставшиеся нарушения.\n",
    "\n",
    "3) Сокращение времени реакции: благодаря скорости и эффективности алгоритмов машинного обучения, системы модерации могут обнаруживать и удалить нежелательный контент практически мгновенно. Это помогает предотвратить распространение нежелательных материалов и уменьшить вред, который они могут нанести пользователям и сообществам.\n",
    "\n",
    "После предобработки полученных данных было рассмотрено применение для поставленной задачи таких моделей машинного обучения, как логистическая регрессия, случайный лес, классификатор на `LightGBM` и логистическая регрессия с применением предобученной модели BERT. Лучшие результаты (`F1_score = 0.78`) показала модель `LGBMClassifier` с подобранными гиперпараметрами \n",
    "- boosting_type='goss', \n",
    "- n_estimators=200, \n",
    "- max_depth=90,\n",
    "- num_leaves=128`. \n",
    "\n",
    "При наличии свободных вычислительных мощностей целесообразно применение логистической регрессии на BERT, модель показала достаточно высокие значения метрики качества, не смотря на небольшой объем обучающих данных."
   ]
  },
  {
   "cell_type": "code",
   "execution_count": null,
   "id": "75cb52a5",
   "metadata": {},
   "outputs": [],
   "source": []
  }
 ],
 "metadata": {
  "ExecuteTimeLog": [
   {
    "duration": 30042,
    "start_time": "2023-05-31T19:24:59.881Z"
   },
   {
    "duration": 1345,
    "start_time": "2023-05-31T19:25:29.931Z"
   },
   {
    "duration": 11,
    "start_time": "2023-05-31T19:25:31.278Z"
   },
   {
    "duration": 83,
    "start_time": "2023-05-31T19:25:31.291Z"
   },
   {
    "duration": 162,
    "start_time": "2023-05-31T19:25:31.377Z"
   },
   {
    "duration": 9,
    "start_time": "2023-05-31T19:25:31.540Z"
   },
   {
    "duration": 732,
    "start_time": "2023-05-31T19:25:31.550Z"
   },
   {
    "duration": 7,
    "start_time": "2023-05-31T19:26:07.876Z"
   },
   {
    "duration": 16309,
    "start_time": "2023-05-31T19:55:39.334Z"
   },
   {
    "duration": 22873,
    "start_time": "2023-05-31T19:56:15.273Z"
   },
   {
    "duration": 83,
    "start_time": "2023-06-01T03:53:25.654Z"
   },
   {
    "duration": 16755,
    "start_time": "2023-06-01T03:57:07.177Z"
   },
   {
    "duration": 2306,
    "start_time": "2023-06-01T03:57:23.935Z"
   },
   {
    "duration": 13,
    "start_time": "2023-06-01T03:57:26.243Z"
   },
   {
    "duration": 39,
    "start_time": "2023-06-01T03:57:26.258Z"
   },
   {
    "duration": 190,
    "start_time": "2023-06-01T03:57:26.299Z"
   },
   {
    "duration": 13,
    "start_time": "2023-06-01T03:57:26.491Z"
   },
   {
    "duration": 372387,
    "start_time": "2023-06-01T03:57:26.506Z"
   },
   {
    "duration": 0,
    "start_time": "2023-06-01T04:03:38.895Z"
   },
   {
    "duration": 0,
    "start_time": "2023-06-01T04:03:38.897Z"
   },
   {
    "duration": 0,
    "start_time": "2023-06-01T04:03:38.898Z"
   },
   {
    "duration": 0,
    "start_time": "2023-06-01T04:03:38.899Z"
   },
   {
    "duration": 0,
    "start_time": "2023-06-01T04:03:38.900Z"
   },
   {
    "duration": 0,
    "start_time": "2023-06-01T04:03:38.901Z"
   },
   {
    "duration": 12,
    "start_time": "2023-06-01T04:03:52.341Z"
   },
   {
    "duration": 13,
    "start_time": "2023-06-01T04:04:27.938Z"
   },
   {
    "duration": 10,
    "start_time": "2023-06-01T04:04:36.795Z"
   }
  ],
  "kernelspec": {
   "display_name": "Python 3 (ipykernel)",
   "language": "python",
   "name": "python3"
  },
  "language_info": {
   "codemirror_mode": {
    "name": "ipython",
    "version": 3
   },
   "file_extension": ".py",
   "mimetype": "text/x-python",
   "name": "python",
   "nbconvert_exporter": "python",
   "pygments_lexer": "ipython3",
   "version": "3.10.11"
  },
  "toc": {
   "base_numbering": 1,
   "nav_menu": {},
   "number_sections": true,
   "sideBar": true,
   "skip_h1_title": true,
   "title_cell": "Table of Contents",
   "title_sidebar": "Contents",
   "toc_cell": true,
   "toc_position": {
    "height": "calc(100% - 180px)",
    "left": "10px",
    "top": "150px",
    "width": "406.237px"
   },
   "toc_section_display": true,
   "toc_window_display": true
  }
 },
 "nbformat": 4,
 "nbformat_minor": 5
}
